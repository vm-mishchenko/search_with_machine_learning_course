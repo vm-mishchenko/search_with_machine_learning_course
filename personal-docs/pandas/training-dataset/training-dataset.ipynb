{
 "cells": [
  {
   "cell_type": "code",
   "execution_count": 34,
   "metadata": {
    "collapsed": true,
    "pycharm": {
     "name": "#%%\n"
    }
   },
   "outputs": [],
   "source": [
    "import pandas as pd"
   ]
  },
  {
   "cell_type": "code",
   "execution_count": 35,
   "outputs": [],
   "source": [
    "training = pd.read_csv('training.xgb.csv', na_values='?', encoding=\"utf-8-sig\")\n",
    "del training['Unnamed: 0']\n",
    "del training['doc_id']\n",
    "del training['product_name']"
   ],
   "metadata": {
    "collapsed": false,
    "pycharm": {
     "name": "#%%\n"
    }
   }
  },
  {
   "cell_type": "code",
   "execution_count": 36,
   "outputs": [
    {
     "data": {
      "text/plain": "          query      sku  clicks  rank  num_impressions  query_id  name_match  \\\n0   sound cards  1173369      13   2.0               76      3020    9.032271   \n1        iPad 2  1945674      67   4.0             1600      2347    0.000000   \n2   Canon flash  8968334      14   1.0               52       309   10.350505   \n3  Remote start  9347815      21   4.0              192      1240    0.000000   \n4    Blackberry  2265381      48   1.0              384       221    7.975333   \n\n   grade  \n0    0.0  \n1    0.0  \n2    0.0  \n3    0.0  \n4    0.0  ",
      "text/html": "<div>\n<style scoped>\n    .dataframe tbody tr th:only-of-type {\n        vertical-align: middle;\n    }\n\n    .dataframe tbody tr th {\n        vertical-align: top;\n    }\n\n    .dataframe thead th {\n        text-align: right;\n    }\n</style>\n<table border=\"1\" class=\"dataframe\">\n  <thead>\n    <tr style=\"text-align: right;\">\n      <th></th>\n      <th>query</th>\n      <th>sku</th>\n      <th>clicks</th>\n      <th>rank</th>\n      <th>num_impressions</th>\n      <th>query_id</th>\n      <th>name_match</th>\n      <th>grade</th>\n    </tr>\n  </thead>\n  <tbody>\n    <tr>\n      <th>0</th>\n      <td>sound cards</td>\n      <td>1173369</td>\n      <td>13</td>\n      <td>2.0</td>\n      <td>76</td>\n      <td>3020</td>\n      <td>9.032271</td>\n      <td>0.0</td>\n    </tr>\n    <tr>\n      <th>1</th>\n      <td>iPad 2</td>\n      <td>1945674</td>\n      <td>67</td>\n      <td>4.0</td>\n      <td>1600</td>\n      <td>2347</td>\n      <td>0.000000</td>\n      <td>0.0</td>\n    </tr>\n    <tr>\n      <th>2</th>\n      <td>Canon flash</td>\n      <td>8968334</td>\n      <td>14</td>\n      <td>1.0</td>\n      <td>52</td>\n      <td>309</td>\n      <td>10.350505</td>\n      <td>0.0</td>\n    </tr>\n    <tr>\n      <th>3</th>\n      <td>Remote start</td>\n      <td>9347815</td>\n      <td>21</td>\n      <td>4.0</td>\n      <td>192</td>\n      <td>1240</td>\n      <td>0.000000</td>\n      <td>0.0</td>\n    </tr>\n    <tr>\n      <th>4</th>\n      <td>Blackberry</td>\n      <td>2265381</td>\n      <td>48</td>\n      <td>1.0</td>\n      <td>384</td>\n      <td>221</td>\n      <td>7.975333</td>\n      <td>0.0</td>\n    </tr>\n  </tbody>\n</table>\n</div>"
     },
     "execution_count": 36,
     "metadata": {},
     "output_type": "execute_result"
    }
   ],
   "source": [
    "training.head()"
   ],
   "metadata": {
    "collapsed": false,
    "pycharm": {
     "name": "#%%\n"
    }
   }
  },
  {
   "cell_type": "code",
   "execution_count": 37,
   "outputs": [
    {
     "data": {
      "text/plain": "                                        query      sku  clicks  rank  \\\n4359                                 Apple tv  1331156     920   1.0   \n5627                                Hp tablet  2842056    1113   1.0   \n23                               Hp touch pad  2842056     619   1.0   \n2207                              hp touchpad  2842056    3090   1.0   \n704                                iPod touch  9225377     796   1.0   \n...                                       ...      ...     ...   ...   \n3194                                  Klipsch  2138273      20   4.0   \n3193  2622037 2127204 2127213 2121716 2138291  2969477      10  26.0   \n3192                           laptop charger  8881695      15   3.0   \n3191                                 inverter  9889815      14   2.0   \n9285                                 netbooks  2754052      30   3.0   \n\n      num_impressions  query_id  name_match  grade  \n4359             1106       155   11.863342    1.0  \n5627             2027       703   12.614981    1.0  \n23               1020       706    5.448473    1.0  \n2207             5442      2317   15.687536    1.0  \n704              1362      2395    7.411640    1.0  \n...               ...       ...         ...    ...  \n3194              313       833    6.599073    0.0  \n3193             3248        15    0.000000    0.0  \n3192              210      2519    3.991574    0.0  \n3191              104      2424    8.387161    0.0  \n9285              252      2675    3.928680    0.0  \n\n[9286 rows x 8 columns]",
      "text/html": "<div>\n<style scoped>\n    .dataframe tbody tr th:only-of-type {\n        vertical-align: middle;\n    }\n\n    .dataframe tbody tr th {\n        vertical-align: top;\n    }\n\n    .dataframe thead th {\n        text-align: right;\n    }\n</style>\n<table border=\"1\" class=\"dataframe\">\n  <thead>\n    <tr style=\"text-align: right;\">\n      <th></th>\n      <th>query</th>\n      <th>sku</th>\n      <th>clicks</th>\n      <th>rank</th>\n      <th>num_impressions</th>\n      <th>query_id</th>\n      <th>name_match</th>\n      <th>grade</th>\n    </tr>\n  </thead>\n  <tbody>\n    <tr>\n      <th>4359</th>\n      <td>Apple tv</td>\n      <td>1331156</td>\n      <td>920</td>\n      <td>1.0</td>\n      <td>1106</td>\n      <td>155</td>\n      <td>11.863342</td>\n      <td>1.0</td>\n    </tr>\n    <tr>\n      <th>5627</th>\n      <td>Hp tablet</td>\n      <td>2842056</td>\n      <td>1113</td>\n      <td>1.0</td>\n      <td>2027</td>\n      <td>703</td>\n      <td>12.614981</td>\n      <td>1.0</td>\n    </tr>\n    <tr>\n      <th>23</th>\n      <td>Hp touch pad</td>\n      <td>2842056</td>\n      <td>619</td>\n      <td>1.0</td>\n      <td>1020</td>\n      <td>706</td>\n      <td>5.448473</td>\n      <td>1.0</td>\n    </tr>\n    <tr>\n      <th>2207</th>\n      <td>hp touchpad</td>\n      <td>2842056</td>\n      <td>3090</td>\n      <td>1.0</td>\n      <td>5442</td>\n      <td>2317</td>\n      <td>15.687536</td>\n      <td>1.0</td>\n    </tr>\n    <tr>\n      <th>704</th>\n      <td>iPod touch</td>\n      <td>9225377</td>\n      <td>796</td>\n      <td>1.0</td>\n      <td>1362</td>\n      <td>2395</td>\n      <td>7.411640</td>\n      <td>1.0</td>\n    </tr>\n    <tr>\n      <th>...</th>\n      <td>...</td>\n      <td>...</td>\n      <td>...</td>\n      <td>...</td>\n      <td>...</td>\n      <td>...</td>\n      <td>...</td>\n      <td>...</td>\n    </tr>\n    <tr>\n      <th>3194</th>\n      <td>Klipsch</td>\n      <td>2138273</td>\n      <td>20</td>\n      <td>4.0</td>\n      <td>313</td>\n      <td>833</td>\n      <td>6.599073</td>\n      <td>0.0</td>\n    </tr>\n    <tr>\n      <th>3193</th>\n      <td>2622037 2127204 2127213 2121716 2138291</td>\n      <td>2969477</td>\n      <td>10</td>\n      <td>26.0</td>\n      <td>3248</td>\n      <td>15</td>\n      <td>0.000000</td>\n      <td>0.0</td>\n    </tr>\n    <tr>\n      <th>3192</th>\n      <td>laptop charger</td>\n      <td>8881695</td>\n      <td>15</td>\n      <td>3.0</td>\n      <td>210</td>\n      <td>2519</td>\n      <td>3.991574</td>\n      <td>0.0</td>\n    </tr>\n    <tr>\n      <th>3191</th>\n      <td>inverter</td>\n      <td>9889815</td>\n      <td>14</td>\n      <td>2.0</td>\n      <td>104</td>\n      <td>2424</td>\n      <td>8.387161</td>\n      <td>0.0</td>\n    </tr>\n    <tr>\n      <th>9285</th>\n      <td>netbooks</td>\n      <td>2754052</td>\n      <td>30</td>\n      <td>3.0</td>\n      <td>252</td>\n      <td>2675</td>\n      <td>3.928680</td>\n      <td>0.0</td>\n    </tr>\n  </tbody>\n</table>\n<p>9286 rows × 8 columns</p>\n</div>"
     },
     "execution_count": 37,
     "metadata": {},
     "output_type": "execute_result"
    }
   ],
   "source": [
    "training.sort_values(by='grade', ascending=False)"
   ],
   "metadata": {
    "collapsed": false,
    "pycharm": {
     "name": "#%%\n"
    }
   }
  }
 ],
 "metadata": {
  "kernelspec": {
   "display_name": "Python 3",
   "language": "python",
   "name": "python3"
  },
  "language_info": {
   "codemirror_mode": {
    "name": "ipython",
    "version": 2
   },
   "file_extension": ".py",
   "mimetype": "text/x-python",
   "name": "python",
   "nbconvert_exporter": "python",
   "pygments_lexer": "ipython2",
   "version": "2.7.6"
  }
 },
 "nbformat": 4,
 "nbformat_minor": 0
}