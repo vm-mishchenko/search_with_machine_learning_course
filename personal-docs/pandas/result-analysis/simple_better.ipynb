{
 "cells": [
  {
   "cell_type": "code",
   "execution_count": 1,
   "metadata": {
    "collapsed": true,
    "pycharm": {
     "name": "#%%\n"
    }
   },
   "outputs": [],
   "source": [
    "import pandas as pd"
   ]
  },
  {
   "cell_type": "code",
   "execution_count": 3,
   "outputs": [],
   "source": [
    "simple_better = pd.read_csv(\"simple_better.csv\")"
   ],
   "metadata": {
    "collapsed": false,
    "pycharm": {
     "name": "#%%\n"
    }
   }
  },
  {
   "cell_type": "code",
   "execution_count": 5,
   "outputs": [
    {
     "data": {
      "text/plain": "                    query       sku  rank_simple type_simple  found_simple  \\\n0   USB to hdmi converter   2731344            1      simple          True   \n1              iPod touch   9899697            1      simple          True   \n2              iPod touch   1658265           28      simple          True   \n3              iPod touch   2670081           30      simple          True   \n4              iPod touch   3559541           63      simple          True   \n5              iPod touch   3460035           71      simple          True   \n6              iPod touch   1404106           76      simple          True   \n7              iPod touch   9530224           77      simple          True   \n8              iPod touch   1377123          107      simple          True   \n9              iPod touch   1328189          127      simple          True   \n10             iPod touch   1328383          130      simple          True   \n11             iPod touch   9899706          135      simple          True   \n12             iPod touch   1207936          346      simple          True   \n13             smallville  13863562            1      simple          True   \n14             smallville   7504701            4      simple          True   \n15             smallville   5319078           10      simple          True   \n16             smallville   3224054           11      simple          True   \n17             smallville   8955473           17      simple          True   \n18              zonealarm   1256446           21      simple          True   \n19              zonealarm   9506652           23      simple          True   \n\n    new_simple  score_simple  rank_ltr    type_ltr  found_ltr  new_ltr  \\\n0        False     106.32615       126  ltr_simple       True    False   \n1        False    1277.95240        21  ltr_simple       True    False   \n2        False    1132.66360       198  ltr_simple       True    False   \n3        False    1132.66260       195  ltr_simple       True    False   \n4        False    1132.65730       419  ltr_simple       True    False   \n5        False    1132.65730       499  ltr_simple       True    False   \n6        False    1132.65730       465  ltr_simple       True    False   \n7        False    1086.67410       116  ltr_simple       True    False   \n8        False    1071.83470       218  ltr_simple       True    False   \n9        False    1071.83080       273  ltr_simple       True    False   \n10       False    1071.82970       407  ltr_simple       True    False   \n11       False    1071.82970       333  ltr_simple       True    False   \n12       False     967.99450       411  ltr_simple       True    False   \n13       False     832.56900        11  ltr_simple       True    False   \n14       False     569.52120         9  ltr_simple       True    False   \n15       False     535.68506        26  ltr_simple       True    False   \n16       False     535.65607        27  ltr_simple       True    False   \n17       False     505.62480        18  ltr_simple       True    False   \n18       False       0.03700        31  ltr_simple       True    False   \n19       False       0.01900        32  ltr_simple       True    False   \n\n    score_ltr  \n0    0.765152  \n1    0.962494  \n2    0.788297  \n3    0.798827  \n4    0.698332  \n5    0.588429  \n6    0.698332  \n7    0.890182  \n8    0.774655  \n9    0.735194  \n10   0.720005  \n11   0.722885  \n12   0.710272  \n13   0.887423  \n14   0.902555  \n15   0.842246  \n16   0.842246  \n17   0.868737  \n18   0.755728  \n19   0.716667  ",
      "text/html": "<div>\n<style scoped>\n    .dataframe tbody tr th:only-of-type {\n        vertical-align: middle;\n    }\n\n    .dataframe tbody tr th {\n        vertical-align: top;\n    }\n\n    .dataframe thead th {\n        text-align: right;\n    }\n</style>\n<table border=\"1\" class=\"dataframe\">\n  <thead>\n    <tr style=\"text-align: right;\">\n      <th></th>\n      <th>query</th>\n      <th>sku</th>\n      <th>rank_simple</th>\n      <th>type_simple</th>\n      <th>found_simple</th>\n      <th>new_simple</th>\n      <th>score_simple</th>\n      <th>rank_ltr</th>\n      <th>type_ltr</th>\n      <th>found_ltr</th>\n      <th>new_ltr</th>\n      <th>score_ltr</th>\n    </tr>\n  </thead>\n  <tbody>\n    <tr>\n      <th>0</th>\n      <td>USB to hdmi converter</td>\n      <td>2731344</td>\n      <td>1</td>\n      <td>simple</td>\n      <td>True</td>\n      <td>False</td>\n      <td>106.32615</td>\n      <td>126</td>\n      <td>ltr_simple</td>\n      <td>True</td>\n      <td>False</td>\n      <td>0.765152</td>\n    </tr>\n    <tr>\n      <th>1</th>\n      <td>iPod touch</td>\n      <td>9899697</td>\n      <td>1</td>\n      <td>simple</td>\n      <td>True</td>\n      <td>False</td>\n      <td>1277.95240</td>\n      <td>21</td>\n      <td>ltr_simple</td>\n      <td>True</td>\n      <td>False</td>\n      <td>0.962494</td>\n    </tr>\n    <tr>\n      <th>2</th>\n      <td>iPod touch</td>\n      <td>1658265</td>\n      <td>28</td>\n      <td>simple</td>\n      <td>True</td>\n      <td>False</td>\n      <td>1132.66360</td>\n      <td>198</td>\n      <td>ltr_simple</td>\n      <td>True</td>\n      <td>False</td>\n      <td>0.788297</td>\n    </tr>\n    <tr>\n      <th>3</th>\n      <td>iPod touch</td>\n      <td>2670081</td>\n      <td>30</td>\n      <td>simple</td>\n      <td>True</td>\n      <td>False</td>\n      <td>1132.66260</td>\n      <td>195</td>\n      <td>ltr_simple</td>\n      <td>True</td>\n      <td>False</td>\n      <td>0.798827</td>\n    </tr>\n    <tr>\n      <th>4</th>\n      <td>iPod touch</td>\n      <td>3559541</td>\n      <td>63</td>\n      <td>simple</td>\n      <td>True</td>\n      <td>False</td>\n      <td>1132.65730</td>\n      <td>419</td>\n      <td>ltr_simple</td>\n      <td>True</td>\n      <td>False</td>\n      <td>0.698332</td>\n    </tr>\n    <tr>\n      <th>5</th>\n      <td>iPod touch</td>\n      <td>3460035</td>\n      <td>71</td>\n      <td>simple</td>\n      <td>True</td>\n      <td>False</td>\n      <td>1132.65730</td>\n      <td>499</td>\n      <td>ltr_simple</td>\n      <td>True</td>\n      <td>False</td>\n      <td>0.588429</td>\n    </tr>\n    <tr>\n      <th>6</th>\n      <td>iPod touch</td>\n      <td>1404106</td>\n      <td>76</td>\n      <td>simple</td>\n      <td>True</td>\n      <td>False</td>\n      <td>1132.65730</td>\n      <td>465</td>\n      <td>ltr_simple</td>\n      <td>True</td>\n      <td>False</td>\n      <td>0.698332</td>\n    </tr>\n    <tr>\n      <th>7</th>\n      <td>iPod touch</td>\n      <td>9530224</td>\n      <td>77</td>\n      <td>simple</td>\n      <td>True</td>\n      <td>False</td>\n      <td>1086.67410</td>\n      <td>116</td>\n      <td>ltr_simple</td>\n      <td>True</td>\n      <td>False</td>\n      <td>0.890182</td>\n    </tr>\n    <tr>\n      <th>8</th>\n      <td>iPod touch</td>\n      <td>1377123</td>\n      <td>107</td>\n      <td>simple</td>\n      <td>True</td>\n      <td>False</td>\n      <td>1071.83470</td>\n      <td>218</td>\n      <td>ltr_simple</td>\n      <td>True</td>\n      <td>False</td>\n      <td>0.774655</td>\n    </tr>\n    <tr>\n      <th>9</th>\n      <td>iPod touch</td>\n      <td>1328189</td>\n      <td>127</td>\n      <td>simple</td>\n      <td>True</td>\n      <td>False</td>\n      <td>1071.83080</td>\n      <td>273</td>\n      <td>ltr_simple</td>\n      <td>True</td>\n      <td>False</td>\n      <td>0.735194</td>\n    </tr>\n    <tr>\n      <th>10</th>\n      <td>iPod touch</td>\n      <td>1328383</td>\n      <td>130</td>\n      <td>simple</td>\n      <td>True</td>\n      <td>False</td>\n      <td>1071.82970</td>\n      <td>407</td>\n      <td>ltr_simple</td>\n      <td>True</td>\n      <td>False</td>\n      <td>0.720005</td>\n    </tr>\n    <tr>\n      <th>11</th>\n      <td>iPod touch</td>\n      <td>9899706</td>\n      <td>135</td>\n      <td>simple</td>\n      <td>True</td>\n      <td>False</td>\n      <td>1071.82970</td>\n      <td>333</td>\n      <td>ltr_simple</td>\n      <td>True</td>\n      <td>False</td>\n      <td>0.722885</td>\n    </tr>\n    <tr>\n      <th>12</th>\n      <td>iPod touch</td>\n      <td>1207936</td>\n      <td>346</td>\n      <td>simple</td>\n      <td>True</td>\n      <td>False</td>\n      <td>967.99450</td>\n      <td>411</td>\n      <td>ltr_simple</td>\n      <td>True</td>\n      <td>False</td>\n      <td>0.710272</td>\n    </tr>\n    <tr>\n      <th>13</th>\n      <td>smallville</td>\n      <td>13863562</td>\n      <td>1</td>\n      <td>simple</td>\n      <td>True</td>\n      <td>False</td>\n      <td>832.56900</td>\n      <td>11</td>\n      <td>ltr_simple</td>\n      <td>True</td>\n      <td>False</td>\n      <td>0.887423</td>\n    </tr>\n    <tr>\n      <th>14</th>\n      <td>smallville</td>\n      <td>7504701</td>\n      <td>4</td>\n      <td>simple</td>\n      <td>True</td>\n      <td>False</td>\n      <td>569.52120</td>\n      <td>9</td>\n      <td>ltr_simple</td>\n      <td>True</td>\n      <td>False</td>\n      <td>0.902555</td>\n    </tr>\n    <tr>\n      <th>15</th>\n      <td>smallville</td>\n      <td>5319078</td>\n      <td>10</td>\n      <td>simple</td>\n      <td>True</td>\n      <td>False</td>\n      <td>535.68506</td>\n      <td>26</td>\n      <td>ltr_simple</td>\n      <td>True</td>\n      <td>False</td>\n      <td>0.842246</td>\n    </tr>\n    <tr>\n      <th>16</th>\n      <td>smallville</td>\n      <td>3224054</td>\n      <td>11</td>\n      <td>simple</td>\n      <td>True</td>\n      <td>False</td>\n      <td>535.65607</td>\n      <td>27</td>\n      <td>ltr_simple</td>\n      <td>True</td>\n      <td>False</td>\n      <td>0.842246</td>\n    </tr>\n    <tr>\n      <th>17</th>\n      <td>smallville</td>\n      <td>8955473</td>\n      <td>17</td>\n      <td>simple</td>\n      <td>True</td>\n      <td>False</td>\n      <td>505.62480</td>\n      <td>18</td>\n      <td>ltr_simple</td>\n      <td>True</td>\n      <td>False</td>\n      <td>0.868737</td>\n    </tr>\n    <tr>\n      <th>18</th>\n      <td>zonealarm</td>\n      <td>1256446</td>\n      <td>21</td>\n      <td>simple</td>\n      <td>True</td>\n      <td>False</td>\n      <td>0.03700</td>\n      <td>31</td>\n      <td>ltr_simple</td>\n      <td>True</td>\n      <td>False</td>\n      <td>0.755728</td>\n    </tr>\n    <tr>\n      <th>19</th>\n      <td>zonealarm</td>\n      <td>9506652</td>\n      <td>23</td>\n      <td>simple</td>\n      <td>True</td>\n      <td>False</td>\n      <td>0.01900</td>\n      <td>32</td>\n      <td>ltr_simple</td>\n      <td>True</td>\n      <td>False</td>\n      <td>0.716667</td>\n    </tr>\n  </tbody>\n</table>\n</div>"
     },
     "execution_count": 5,
     "metadata": {},
     "output_type": "execute_result"
    }
   ],
   "source": [
    "simple_better.head(20)"
   ],
   "metadata": {
    "collapsed": false,
    "pycharm": {
     "name": "#%%\n"
    }
   }
  }
 ],
 "metadata": {
  "kernelspec": {
   "display_name": "Python 3",
   "language": "python",
   "name": "python3"
  },
  "language_info": {
   "codemirror_mode": {
    "name": "ipython",
    "version": 2
   },
   "file_extension": ".py",
   "mimetype": "text/x-python",
   "name": "python",
   "nbconvert_exporter": "python",
   "pygments_lexer": "ipython2",
   "version": "2.7.6"
  }
 },
 "nbformat": 4,
 "nbformat_minor": 0
}