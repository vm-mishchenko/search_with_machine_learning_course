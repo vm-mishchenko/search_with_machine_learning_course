{
 "cells": [
  {
   "cell_type": "code",
   "execution_count": 2,
   "metadata": {
    "collapsed": true,
    "pycharm": {
     "name": "#%%\n"
    }
   },
   "outputs": [],
   "source": [
    "import pandas as pd"
   ]
  },
  {
   "cell_type": "code",
   "execution_count": 3,
   "outputs": [],
   "source": [
    "simple_ltr_explains = pd.read_csv(\"simple_ltr_explains.csv\")"
   ],
   "metadata": {
    "collapsed": false,
    "pycharm": {
     "name": "#%%\n"
    }
   }
  },
  {
   "cell_type": "code",
   "execution_count": null,
   "outputs": [],
   "source": [
    "## Explore Basic Query and LTR weights"
   ],
   "metadata": {
    "collapsed": false,
    "pycharm": {
     "name": "#%%\n"
    }
   }
  },
  {
   "cell_type": "code",
   "execution_count": 4,
   "outputs": [
    {
     "data": {
      "text/plain": "                    query       sku        score  clause_0     clause_1  \\\n0   USB to hdmi converter   2731344   106.708725  0.151029    86.847230   \n1              iPod touch   9899697  1278.433600  0.098153  1048.564500   \n2              iPod touch   1658265  1133.057700  0.092174   929.231100   \n3              iPod touch   2670081  1133.062000  0.092174   929.231100   \n4              iPod touch   3559541  1133.006500  0.086882   929.231100   \n5              iPod touch   3460035  1132.951500  0.086882   929.231100   \n6              iPod touch   1404106  1133.006500  0.086882   929.231100   \n7              iPod touch   9530224  1087.119100  0.092174   879.280760   \n8              iPod touch   1377123  1072.222000  0.082165   879.280760   \n9              iPod touch   1328189  1072.198400  0.082165   879.280760   \n10             iPod touch   1328383  1072.189800  0.082165   879.280760   \n11             iPod touch   9899706  1072.191200  0.082165   879.280760   \n12             iPod touch   1207936   968.349700  0.077933   794.022700   \n13             smallville  13863562   833.012700  0.036000   695.941960   \n14             smallville   7504701   569.972400  0.065000   476.025330   \n15             smallville   5319078   536.106140  0.080000   447.728940   \n16             smallville   3224054   536.077150  0.051000   447.728940   \n17             smallville   8955473   506.059170  0.072000   422.607970   \n18              zonealarm   1256446     0.414864  0.037000     0.377864   \n19              zonealarm   9506652     0.377334  0.019000     0.358334   \n\n      clause_2   clause_3    clause_4  Feature 0(name_match)  \\\n0    18.827892   0.500000    0.382576              15.102941   \n1   209.712900  19.572823    0.004000               9.815296   \n2   185.846190  17.493137    0.001000               9.217439   \n3   185.846190  17.493137    0.399413               9.217439   \n4   185.846190  17.493137    0.349166               8.688230   \n5   185.846190  17.493137    0.294215               8.688230   \n6   185.846190  17.493137    0.349166               8.688230   \n7   190.683430  16.610664    0.007000               9.217439   \n8   175.856170  16.610664    0.005000               8.216492   \n9   175.856170  16.610664    0.001000               8.216492   \n10  175.856170  16.610664    0.360003               8.216492   \n11  175.856170  16.610664    0.361443               8.216492   \n12  158.804530  15.088347    0.001000               7.793341   \n13    0.131843   0.443712  136.459200              13.184287   \n14    0.092538   0.451277   93.338290               9.253796   \n15    0.086119   0.421123   87.789980               8.611948   \n16    0.086119   0.421123   87.789980               8.611948   \n17    0.080534   0.434368   82.864290               8.053364   \n18    0.000000   0.000000    0.000000               0.000000   \n19    0.000000   0.000000    0.000000               0.000000   \n\n    Feature 1(name_match_phrase)  Feature 2(customerReviewAverage)  \\\n0                       0.000000                               1.0   \n1                       6.021957                               5.0   \n2                       5.578011                               5.0   \n3                       5.578011                               3.9   \n4                       5.195026                               2.0   \n5                       5.195026                               5.0   \n6                       5.195026                               0.0   \n7                       5.578011                               4.0   \n8                       4.861254                               2.1   \n9                       4.861254                               3.1   \n10                      4.861254                               4.8   \n11                      4.861254                               0.0   \n12                      4.567781                               3.0   \n13                     13.184287                               0.0   \n14                      9.253796                               0.0   \n15                      8.611948                               4.5   \n16                      8.611948                               5.0   \n17                      8.053364                               4.6   \n18                      0.000000                               0.0   \n19                      0.000000                               3.0   \n\n    Feature 3(customerReviewCount)  Feature 4(artistName_match_phrase)  \\\n0                              1.0                                 0.0   \n1                              3.0                                 0.0   \n2                              1.0                                 0.0   \n3                              7.0                                 0.0   \n4                              1.0                                 0.0   \n5                              8.0                                 0.0   \n6                              0.0                                 0.0   \n7                             56.0                                 0.0   \n8                             26.0                                 0.0   \n9                              9.0                                 0.0   \n10                             6.0                                 0.0   \n11                             0.0                                 0.0   \n12                            19.0                                 0.0   \n13                             0.0                                 0.0   \n14                             0.0                                 0.0   \n15                             2.0                                 0.0   \n16                             2.0                                 0.0   \n17                            10.0                                 0.0   \n18                             0.0                                 0.0   \n19                            34.0                                 0.0   \n\n    Feature 5(shortDescription_match_phrase)  \\\n0                                   0.000000   \n1                                   8.008602   \n2                                   8.272112   \n3                                   4.804366   \n4                                   4.310162   \n5                                   8.272112   \n6                                   8.553555   \n7                                   8.000523   \n8                                   7.310013   \n9                                   8.008602   \n10                                  8.008602   \n11                                  7.103469   \n12                                  6.723522   \n13                                  0.000000   \n14                                  0.000000   \n15                                  0.000000   \n16                                  0.000000   \n17                                  0.000000   \n18                                  0.000000   \n19                                  0.000000   \n\n    Feature 6(longDescription_match_phrase)  Feature 7(salesRankShortTerm)  \\\n0                                 17.369446                   0.000000e+00   \n1                                  8.605209                   4.295427e-01   \n2                                  9.312463                   0.000000e+00   \n3                                  8.392741                   8.895078e-01   \n4                                  7.904805                   7.229215e-12   \n5                                  7.904805                   9.363517e-01   \n6                                  9.064138                   0.000000e+00   \n7                                  7.904805                   2.101150e-02   \n8                                  7.389288                   0.000000e+00   \n9                                  5.806567                   0.000000e+00   \n10                                 5.806567                   0.000000e+00   \n11                                 8.290394                   0.000000e+00   \n12                                 7.470486                   9.679190e-01   \n13                                 0.000000                   0.000000e+00   \n14                                 0.000000                   0.000000e+00   \n15                                 0.000000                   0.000000e+00   \n16                                 0.000000                   4.172378e-06   \n17                                 0.000000                   8.361262e-08   \n18                                 0.000000                   0.000000e+00   \n19                                 0.000000                   0.000000e+00   \n\n    Feature 8(sku_terms)  clause_5  clause_6  \n0                    0.0  0.000000         0  \n1                    0.0  0.481247         0  \n2                    0.0  0.394149         0  \n3                    0.0  0.000000         0  \n4                    0.0  0.000000         0  \n5                    0.0  0.000000         0  \n6                    0.0  0.000000         0  \n7                    0.0  0.445091         0  \n8                    0.0  0.387328         0  \n9                    0.0  0.367597         0  \n10                   0.0  0.000000         0  \n11                   0.0  0.000000         0  \n12                   0.0  0.355136         0  \n13                   0.0  0.000000         0  \n14                   0.0  0.000000         0  \n15                   0.0  0.000000         0  \n16                   0.0  0.000000         0  \n17                   0.0  0.000000         0  \n18                   0.0  0.000000         0  \n19                   0.0  0.000000         0  ",
      "text/html": "<div>\n<style scoped>\n    .dataframe tbody tr th:only-of-type {\n        vertical-align: middle;\n    }\n\n    .dataframe tbody tr th {\n        vertical-align: top;\n    }\n\n    .dataframe thead th {\n        text-align: right;\n    }\n</style>\n<table border=\"1\" class=\"dataframe\">\n  <thead>\n    <tr style=\"text-align: right;\">\n      <th></th>\n      <th>query</th>\n      <th>sku</th>\n      <th>score</th>\n      <th>clause_0</th>\n      <th>clause_1</th>\n      <th>clause_2</th>\n      <th>clause_3</th>\n      <th>clause_4</th>\n      <th>Feature 0(name_match)</th>\n      <th>Feature 1(name_match_phrase)</th>\n      <th>Feature 2(customerReviewAverage)</th>\n      <th>Feature 3(customerReviewCount)</th>\n      <th>Feature 4(artistName_match_phrase)</th>\n      <th>Feature 5(shortDescription_match_phrase)</th>\n      <th>Feature 6(longDescription_match_phrase)</th>\n      <th>Feature 7(salesRankShortTerm)</th>\n      <th>Feature 8(sku_terms)</th>\n      <th>clause_5</th>\n      <th>clause_6</th>\n    </tr>\n  </thead>\n  <tbody>\n    <tr>\n      <th>0</th>\n      <td>USB to hdmi converter</td>\n      <td>2731344</td>\n      <td>106.708725</td>\n      <td>0.151029</td>\n      <td>86.847230</td>\n      <td>18.827892</td>\n      <td>0.500000</td>\n      <td>0.382576</td>\n      <td>15.102941</td>\n      <td>0.000000</td>\n      <td>1.0</td>\n      <td>1.0</td>\n      <td>0.0</td>\n      <td>0.000000</td>\n      <td>17.369446</td>\n      <td>0.000000e+00</td>\n      <td>0.0</td>\n      <td>0.000000</td>\n      <td>0</td>\n    </tr>\n    <tr>\n      <th>1</th>\n      <td>iPod touch</td>\n      <td>9899697</td>\n      <td>1278.433600</td>\n      <td>0.098153</td>\n      <td>1048.564500</td>\n      <td>209.712900</td>\n      <td>19.572823</td>\n      <td>0.004000</td>\n      <td>9.815296</td>\n      <td>6.021957</td>\n      <td>5.0</td>\n      <td>3.0</td>\n      <td>0.0</td>\n      <td>8.008602</td>\n      <td>8.605209</td>\n      <td>4.295427e-01</td>\n      <td>0.0</td>\n      <td>0.481247</td>\n      <td>0</td>\n    </tr>\n    <tr>\n      <th>2</th>\n      <td>iPod touch</td>\n      <td>1658265</td>\n      <td>1133.057700</td>\n      <td>0.092174</td>\n      <td>929.231100</td>\n      <td>185.846190</td>\n      <td>17.493137</td>\n      <td>0.001000</td>\n      <td>9.217439</td>\n      <td>5.578011</td>\n      <td>5.0</td>\n      <td>1.0</td>\n      <td>0.0</td>\n      <td>8.272112</td>\n      <td>9.312463</td>\n      <td>0.000000e+00</td>\n      <td>0.0</td>\n      <td>0.394149</td>\n      <td>0</td>\n    </tr>\n    <tr>\n      <th>3</th>\n      <td>iPod touch</td>\n      <td>2670081</td>\n      <td>1133.062000</td>\n      <td>0.092174</td>\n      <td>929.231100</td>\n      <td>185.846190</td>\n      <td>17.493137</td>\n      <td>0.399413</td>\n      <td>9.217439</td>\n      <td>5.578011</td>\n      <td>3.9</td>\n      <td>7.0</td>\n      <td>0.0</td>\n      <td>4.804366</td>\n      <td>8.392741</td>\n      <td>8.895078e-01</td>\n      <td>0.0</td>\n      <td>0.000000</td>\n      <td>0</td>\n    </tr>\n    <tr>\n      <th>4</th>\n      <td>iPod touch</td>\n      <td>3559541</td>\n      <td>1133.006500</td>\n      <td>0.086882</td>\n      <td>929.231100</td>\n      <td>185.846190</td>\n      <td>17.493137</td>\n      <td>0.349166</td>\n      <td>8.688230</td>\n      <td>5.195026</td>\n      <td>2.0</td>\n      <td>1.0</td>\n      <td>0.0</td>\n      <td>4.310162</td>\n      <td>7.904805</td>\n      <td>7.229215e-12</td>\n      <td>0.0</td>\n      <td>0.000000</td>\n      <td>0</td>\n    </tr>\n    <tr>\n      <th>5</th>\n      <td>iPod touch</td>\n      <td>3460035</td>\n      <td>1132.951500</td>\n      <td>0.086882</td>\n      <td>929.231100</td>\n      <td>185.846190</td>\n      <td>17.493137</td>\n      <td>0.294215</td>\n      <td>8.688230</td>\n      <td>5.195026</td>\n      <td>5.0</td>\n      <td>8.0</td>\n      <td>0.0</td>\n      <td>8.272112</td>\n      <td>7.904805</td>\n      <td>9.363517e-01</td>\n      <td>0.0</td>\n      <td>0.000000</td>\n      <td>0</td>\n    </tr>\n    <tr>\n      <th>6</th>\n      <td>iPod touch</td>\n      <td>1404106</td>\n      <td>1133.006500</td>\n      <td>0.086882</td>\n      <td>929.231100</td>\n      <td>185.846190</td>\n      <td>17.493137</td>\n      <td>0.349166</td>\n      <td>8.688230</td>\n      <td>5.195026</td>\n      <td>0.0</td>\n      <td>0.0</td>\n      <td>0.0</td>\n      <td>8.553555</td>\n      <td>9.064138</td>\n      <td>0.000000e+00</td>\n      <td>0.0</td>\n      <td>0.000000</td>\n      <td>0</td>\n    </tr>\n    <tr>\n      <th>7</th>\n      <td>iPod touch</td>\n      <td>9530224</td>\n      <td>1087.119100</td>\n      <td>0.092174</td>\n      <td>879.280760</td>\n      <td>190.683430</td>\n      <td>16.610664</td>\n      <td>0.007000</td>\n      <td>9.217439</td>\n      <td>5.578011</td>\n      <td>4.0</td>\n      <td>56.0</td>\n      <td>0.0</td>\n      <td>8.000523</td>\n      <td>7.904805</td>\n      <td>2.101150e-02</td>\n      <td>0.0</td>\n      <td>0.445091</td>\n      <td>0</td>\n    </tr>\n    <tr>\n      <th>8</th>\n      <td>iPod touch</td>\n      <td>1377123</td>\n      <td>1072.222000</td>\n      <td>0.082165</td>\n      <td>879.280760</td>\n      <td>175.856170</td>\n      <td>16.610664</td>\n      <td>0.005000</td>\n      <td>8.216492</td>\n      <td>4.861254</td>\n      <td>2.1</td>\n      <td>26.0</td>\n      <td>0.0</td>\n      <td>7.310013</td>\n      <td>7.389288</td>\n      <td>0.000000e+00</td>\n      <td>0.0</td>\n      <td>0.387328</td>\n      <td>0</td>\n    </tr>\n    <tr>\n      <th>9</th>\n      <td>iPod touch</td>\n      <td>1328189</td>\n      <td>1072.198400</td>\n      <td>0.082165</td>\n      <td>879.280760</td>\n      <td>175.856170</td>\n      <td>16.610664</td>\n      <td>0.001000</td>\n      <td>8.216492</td>\n      <td>4.861254</td>\n      <td>3.1</td>\n      <td>9.0</td>\n      <td>0.0</td>\n      <td>8.008602</td>\n      <td>5.806567</td>\n      <td>0.000000e+00</td>\n      <td>0.0</td>\n      <td>0.367597</td>\n      <td>0</td>\n    </tr>\n    <tr>\n      <th>10</th>\n      <td>iPod touch</td>\n      <td>1328383</td>\n      <td>1072.189800</td>\n      <td>0.082165</td>\n      <td>879.280760</td>\n      <td>175.856170</td>\n      <td>16.610664</td>\n      <td>0.360003</td>\n      <td>8.216492</td>\n      <td>4.861254</td>\n      <td>4.8</td>\n      <td>6.0</td>\n      <td>0.0</td>\n      <td>8.008602</td>\n      <td>5.806567</td>\n      <td>0.000000e+00</td>\n      <td>0.0</td>\n      <td>0.000000</td>\n      <td>0</td>\n    </tr>\n    <tr>\n      <th>11</th>\n      <td>iPod touch</td>\n      <td>9899706</td>\n      <td>1072.191200</td>\n      <td>0.082165</td>\n      <td>879.280760</td>\n      <td>175.856170</td>\n      <td>16.610664</td>\n      <td>0.361443</td>\n      <td>8.216492</td>\n      <td>4.861254</td>\n      <td>0.0</td>\n      <td>0.0</td>\n      <td>0.0</td>\n      <td>7.103469</td>\n      <td>8.290394</td>\n      <td>0.000000e+00</td>\n      <td>0.0</td>\n      <td>0.000000</td>\n      <td>0</td>\n    </tr>\n    <tr>\n      <th>12</th>\n      <td>iPod touch</td>\n      <td>1207936</td>\n      <td>968.349700</td>\n      <td>0.077933</td>\n      <td>794.022700</td>\n      <td>158.804530</td>\n      <td>15.088347</td>\n      <td>0.001000</td>\n      <td>7.793341</td>\n      <td>4.567781</td>\n      <td>3.0</td>\n      <td>19.0</td>\n      <td>0.0</td>\n      <td>6.723522</td>\n      <td>7.470486</td>\n      <td>9.679190e-01</td>\n      <td>0.0</td>\n      <td>0.355136</td>\n      <td>0</td>\n    </tr>\n    <tr>\n      <th>13</th>\n      <td>smallville</td>\n      <td>13863562</td>\n      <td>833.012700</td>\n      <td>0.036000</td>\n      <td>695.941960</td>\n      <td>0.131843</td>\n      <td>0.443712</td>\n      <td>136.459200</td>\n      <td>13.184287</td>\n      <td>13.184287</td>\n      <td>0.0</td>\n      <td>0.0</td>\n      <td>0.0</td>\n      <td>0.000000</td>\n      <td>0.000000</td>\n      <td>0.000000e+00</td>\n      <td>0.0</td>\n      <td>0.000000</td>\n      <td>0</td>\n    </tr>\n    <tr>\n      <th>14</th>\n      <td>smallville</td>\n      <td>7504701</td>\n      <td>569.972400</td>\n      <td>0.065000</td>\n      <td>476.025330</td>\n      <td>0.092538</td>\n      <td>0.451277</td>\n      <td>93.338290</td>\n      <td>9.253796</td>\n      <td>9.253796</td>\n      <td>0.0</td>\n      <td>0.0</td>\n      <td>0.0</td>\n      <td>0.000000</td>\n      <td>0.000000</td>\n      <td>0.000000e+00</td>\n      <td>0.0</td>\n      <td>0.000000</td>\n      <td>0</td>\n    </tr>\n    <tr>\n      <th>15</th>\n      <td>smallville</td>\n      <td>5319078</td>\n      <td>536.106140</td>\n      <td>0.080000</td>\n      <td>447.728940</td>\n      <td>0.086119</td>\n      <td>0.421123</td>\n      <td>87.789980</td>\n      <td>8.611948</td>\n      <td>8.611948</td>\n      <td>4.5</td>\n      <td>2.0</td>\n      <td>0.0</td>\n      <td>0.000000</td>\n      <td>0.000000</td>\n      <td>0.000000e+00</td>\n      <td>0.0</td>\n      <td>0.000000</td>\n      <td>0</td>\n    </tr>\n    <tr>\n      <th>16</th>\n      <td>smallville</td>\n      <td>3224054</td>\n      <td>536.077150</td>\n      <td>0.051000</td>\n      <td>447.728940</td>\n      <td>0.086119</td>\n      <td>0.421123</td>\n      <td>87.789980</td>\n      <td>8.611948</td>\n      <td>8.611948</td>\n      <td>5.0</td>\n      <td>2.0</td>\n      <td>0.0</td>\n      <td>0.000000</td>\n      <td>0.000000</td>\n      <td>4.172378e-06</td>\n      <td>0.0</td>\n      <td>0.000000</td>\n      <td>0</td>\n    </tr>\n    <tr>\n      <th>17</th>\n      <td>smallville</td>\n      <td>8955473</td>\n      <td>506.059170</td>\n      <td>0.072000</td>\n      <td>422.607970</td>\n      <td>0.080534</td>\n      <td>0.434368</td>\n      <td>82.864290</td>\n      <td>8.053364</td>\n      <td>8.053364</td>\n      <td>4.6</td>\n      <td>10.0</td>\n      <td>0.0</td>\n      <td>0.000000</td>\n      <td>0.000000</td>\n      <td>8.361262e-08</td>\n      <td>0.0</td>\n      <td>0.000000</td>\n      <td>0</td>\n    </tr>\n    <tr>\n      <th>18</th>\n      <td>zonealarm</td>\n      <td>1256446</td>\n      <td>0.414864</td>\n      <td>0.037000</td>\n      <td>0.377864</td>\n      <td>0.000000</td>\n      <td>0.000000</td>\n      <td>0.000000</td>\n      <td>0.000000</td>\n      <td>0.000000</td>\n      <td>0.0</td>\n      <td>0.0</td>\n      <td>0.0</td>\n      <td>0.000000</td>\n      <td>0.000000</td>\n      <td>0.000000e+00</td>\n      <td>0.0</td>\n      <td>0.000000</td>\n      <td>0</td>\n    </tr>\n    <tr>\n      <th>19</th>\n      <td>zonealarm</td>\n      <td>9506652</td>\n      <td>0.377334</td>\n      <td>0.019000</td>\n      <td>0.358334</td>\n      <td>0.000000</td>\n      <td>0.000000</td>\n      <td>0.000000</td>\n      <td>0.000000</td>\n      <td>0.000000</td>\n      <td>3.0</td>\n      <td>34.0</td>\n      <td>0.0</td>\n      <td>0.000000</td>\n      <td>0.000000</td>\n      <td>0.000000e+00</td>\n      <td>0.0</td>\n      <td>0.000000</td>\n      <td>0</td>\n    </tr>\n  </tbody>\n</table>\n</div>"
     },
     "execution_count": 4,
     "metadata": {},
     "output_type": "execute_result"
    }
   ],
   "source": [
    "simple_ltr_explains.head(20)"
   ],
   "metadata": {
    "collapsed": false,
    "pycharm": {
     "name": "#%%\n"
    }
   }
  },
  {
   "cell_type": "markdown",
   "source": [
    "## Query-SKU pair where LTR did not match the name"
   ],
   "metadata": {
    "collapsed": false,
    "pycharm": {
     "name": "#%% md\n"
    }
   }
  },
  {
   "cell_type": "code",
   "execution_count": 6,
   "outputs": [],
   "source": [
    "name_match_is_zero = simple_ltr_explains[simple_ltr_explains['Feature 0(name_match)'] == 0]"
   ],
   "metadata": {
    "collapsed": false,
    "pycharm": {
     "name": "#%%\n"
    }
   }
  },
  {
   "cell_type": "code",
   "execution_count": 7,
   "outputs": [
    {
     "data": {
      "text/plain": "        query      sku      score   clause_0  clause_1  clause_2  clause_3  \\\n18  zonealarm  1256446   0.414864   0.037000  0.377864     0.000       0.0   \n19  zonealarm  9506652   0.377334   0.019000  0.358334     0.000       0.0   \n73      casio  8021936  52.358856  51.992523  0.358334     0.008       0.0   \n\n    clause_4  Feature 0(name_match)  Feature 1(name_match_phrase)  \\\n18       0.0                    0.0                           0.0   \n19       0.0                    0.0                           0.0   \n73       0.0                    0.0                           0.0   \n\n    Feature 2(customerReviewAverage)  Feature 3(customerReviewCount)  \\\n18                               0.0                             0.0   \n19                               3.0                            34.0   \n73                               3.0                             2.0   \n\n    Feature 4(artistName_match_phrase)  \\\n18                                 0.0   \n19                                 0.0   \n73                                 0.0   \n\n    Feature 5(shortDescription_match_phrase)  \\\n18                                  0.000000   \n19                                  0.000000   \n73                                  6.933298   \n\n    Feature 6(longDescription_match_phrase)  Feature 7(salesRankShortTerm)  \\\n18                                 0.000000                            0.0   \n19                                 0.000000                            0.0   \n73                                10.398505                            0.0   \n\n    Feature 8(sku_terms)  clause_5  clause_6  \n18                   0.0       0.0         0  \n19                   0.0       0.0         0  \n73                   0.0       0.0         0  ",
      "text/html": "<div>\n<style scoped>\n    .dataframe tbody tr th:only-of-type {\n        vertical-align: middle;\n    }\n\n    .dataframe tbody tr th {\n        vertical-align: top;\n    }\n\n    .dataframe thead th {\n        text-align: right;\n    }\n</style>\n<table border=\"1\" class=\"dataframe\">\n  <thead>\n    <tr style=\"text-align: right;\">\n      <th></th>\n      <th>query</th>\n      <th>sku</th>\n      <th>score</th>\n      <th>clause_0</th>\n      <th>clause_1</th>\n      <th>clause_2</th>\n      <th>clause_3</th>\n      <th>clause_4</th>\n      <th>Feature 0(name_match)</th>\n      <th>Feature 1(name_match_phrase)</th>\n      <th>Feature 2(customerReviewAverage)</th>\n      <th>Feature 3(customerReviewCount)</th>\n      <th>Feature 4(artistName_match_phrase)</th>\n      <th>Feature 5(shortDescription_match_phrase)</th>\n      <th>Feature 6(longDescription_match_phrase)</th>\n      <th>Feature 7(salesRankShortTerm)</th>\n      <th>Feature 8(sku_terms)</th>\n      <th>clause_5</th>\n      <th>clause_6</th>\n    </tr>\n  </thead>\n  <tbody>\n    <tr>\n      <th>18</th>\n      <td>zonealarm</td>\n      <td>1256446</td>\n      <td>0.414864</td>\n      <td>0.037000</td>\n      <td>0.377864</td>\n      <td>0.000</td>\n      <td>0.0</td>\n      <td>0.0</td>\n      <td>0.0</td>\n      <td>0.0</td>\n      <td>0.0</td>\n      <td>0.0</td>\n      <td>0.0</td>\n      <td>0.000000</td>\n      <td>0.000000</td>\n      <td>0.0</td>\n      <td>0.0</td>\n      <td>0.0</td>\n      <td>0</td>\n    </tr>\n    <tr>\n      <th>19</th>\n      <td>zonealarm</td>\n      <td>9506652</td>\n      <td>0.377334</td>\n      <td>0.019000</td>\n      <td>0.358334</td>\n      <td>0.000</td>\n      <td>0.0</td>\n      <td>0.0</td>\n      <td>0.0</td>\n      <td>0.0</td>\n      <td>3.0</td>\n      <td>34.0</td>\n      <td>0.0</td>\n      <td>0.000000</td>\n      <td>0.000000</td>\n      <td>0.0</td>\n      <td>0.0</td>\n      <td>0.0</td>\n      <td>0</td>\n    </tr>\n    <tr>\n      <th>73</th>\n      <td>casio</td>\n      <td>8021936</td>\n      <td>52.358856</td>\n      <td>51.992523</td>\n      <td>0.358334</td>\n      <td>0.008</td>\n      <td>0.0</td>\n      <td>0.0</td>\n      <td>0.0</td>\n      <td>0.0</td>\n      <td>3.0</td>\n      <td>2.0</td>\n      <td>0.0</td>\n      <td>6.933298</td>\n      <td>10.398505</td>\n      <td>0.0</td>\n      <td>0.0</td>\n      <td>0.0</td>\n      <td>0</td>\n    </tr>\n  </tbody>\n</table>\n</div>"
     },
     "execution_count": 7,
     "metadata": {},
     "output_type": "execute_result"
    }
   ],
   "source": [
    "name_match_is_zero.head(20)"
   ],
   "metadata": {
    "collapsed": false,
    "pycharm": {
     "name": "#%%\n"
    }
   }
  },
  {
   "cell_type": "code",
   "execution_count": null,
   "outputs": [],
   "source": [
    "## Understand weights distribution for one particular feature"
   ],
   "metadata": {
    "collapsed": false,
    "pycharm": {
     "name": "#%%\n"
    }
   }
  },
  {
   "cell_type": "code",
   "execution_count": 11,
   "outputs": [
    {
     "data": {
      "text/plain": "Feature 7(salesRankShortTerm)\n0.000000e+00    56\n4.295427e-01     2\n8.728729e-01     1\n4.979319e-01     1\n5.123736e-01     1\n6.527635e-01     1\n6.764816e-01     1\n7.751348e-01     1\n8.521480e-01     1\n8.724819e-01     1\n8.895078e-01     1\n1.047842e-01     1\n9.363517e-01     1\n9.624075e-01     1\n9.633170e-01     1\n9.679190e-01     1\n9.691279e-01     1\n9.710768e-01     1\n9.981964e-01     1\n9.986413e-01     1\n1.434581e-01     1\n2.101150e-02     1\n2.800000e-45     1\n3.593096e-11     1\n7.000000e-45     1\n2.903681e-30     1\n1.127088e-16     1\n3.934434e-14     1\n2.614401e-13     1\n4.870129e-12     1\n7.229215e-12     1\n2.043477e-11     1\n8.361262e-08     1\n4.362590e-04     1\n3.193431e-06     1\n4.172378e-06     1\n4.848327e-06     1\n3.517320e-05     1\n3.551662e-05     1\n2.228841e-04     1\n2.378521e-04     1\n2.480610e-04     1\n9.998217e-01     1\ndtype: int64"
     },
     "execution_count": 11,
     "metadata": {},
     "output_type": "execute_result"
    }
   ],
   "source": [
    "simple_ltr_explains.value_counts(\"Feature 7(salesRankShortTerm)\")"
   ],
   "metadata": {
    "collapsed": false,
    "pycharm": {
     "name": "#%%\n"
    }
   }
  }
 ],
 "metadata": {
  "kernelspec": {
   "display_name": "Python 3",
   "language": "python",
   "name": "python3"
  },
  "language_info": {
   "codemirror_mode": {
    "name": "ipython",
    "version": 2
   },
   "file_extension": ".py",
   "mimetype": "text/x-python",
   "name": "python",
   "nbconvert_exporter": "python",
   "pygments_lexer": "ipython2",
   "version": "2.7.6"
  }
 },
 "nbformat": 4,
 "nbformat_minor": 0
}