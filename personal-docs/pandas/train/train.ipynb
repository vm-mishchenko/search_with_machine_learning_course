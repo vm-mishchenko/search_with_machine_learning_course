{
 "cells": [
  {
   "cell_type": "code",
   "execution_count": 38,
   "outputs": [],
   "source": [
    "import pandas as pd"
   ],
   "metadata": {
    "collapsed": false,
    "pycharm": {
     "name": "#%%\n"
    }
   }
  },
  {
   "cell_type": "code",
   "execution_count": 39,
   "outputs": [],
   "source": [
    "# excluded ./train.csv file from Git as it's too big\n",
    "clicks = pd.read_csv('./train.csv', na_values='?', encoding=\"utf-8-sig\")"
   ],
   "metadata": {
    "collapsed": false,
    "pycharm": {
     "name": "#%%\n"
    }
   }
  },
  {
   "cell_type": "code",
   "execution_count": 40,
   "outputs": [
    {
     "data": {
      "text/plain": "                                       user       sku            category  \\\n0  dad0afc8f07bd2a7b49e3ec6a2e4bea6a73c0329  13788476            cat02724   \n1  b5d56da70406009f1f3c4416407ae0a1550b8d10   2842092  pcmcat209000050008   \n2  7035cb280c8c1655a1e3194d6df45e7bb8fda559   1122196  pcmcat147700050019   \n3  bca46af56623b6bc5629510f3ad9389435ce2a7c   2658129  pcmcat212600050008   \n4  2db68e09833124a0e540875e4f8a74c46f4acab9   9375071        abcat0206006   \n\n                query               click_time               query_time  \n0  My neighbor totoro  2011-08-16 01:21:30.110  2011-08-16 01:18:46.485  \n1             Netbook  2011-09-01 06:41:22.411  2011-09-01 06:39:37.103  \n2        Move charger  2011-09-06 20:59:23.146  2011-09-06 20:58:20.761  \n3            Mac mini  2011-09-03 20:37:46.207  2011-09-03 20:37:14.278  \n4        Pocket radio  2011-09-25 20:58:31.433  2011-09-25 20:56:21.065  ",
      "text/html": "<div>\n<style scoped>\n    .dataframe tbody tr th:only-of-type {\n        vertical-align: middle;\n    }\n\n    .dataframe tbody tr th {\n        vertical-align: top;\n    }\n\n    .dataframe thead th {\n        text-align: right;\n    }\n</style>\n<table border=\"1\" class=\"dataframe\">\n  <thead>\n    <tr style=\"text-align: right;\">\n      <th></th>\n      <th>user</th>\n      <th>sku</th>\n      <th>category</th>\n      <th>query</th>\n      <th>click_time</th>\n      <th>query_time</th>\n    </tr>\n  </thead>\n  <tbody>\n    <tr>\n      <th>0</th>\n      <td>dad0afc8f07bd2a7b49e3ec6a2e4bea6a73c0329</td>\n      <td>13788476</td>\n      <td>cat02724</td>\n      <td>My neighbor totoro</td>\n      <td>2011-08-16 01:21:30.110</td>\n      <td>2011-08-16 01:18:46.485</td>\n    </tr>\n    <tr>\n      <th>1</th>\n      <td>b5d56da70406009f1f3c4416407ae0a1550b8d10</td>\n      <td>2842092</td>\n      <td>pcmcat209000050008</td>\n      <td>Netbook</td>\n      <td>2011-09-01 06:41:22.411</td>\n      <td>2011-09-01 06:39:37.103</td>\n    </tr>\n    <tr>\n      <th>2</th>\n      <td>7035cb280c8c1655a1e3194d6df45e7bb8fda559</td>\n      <td>1122196</td>\n      <td>pcmcat147700050019</td>\n      <td>Move charger</td>\n      <td>2011-09-06 20:59:23.146</td>\n      <td>2011-09-06 20:58:20.761</td>\n    </tr>\n    <tr>\n      <th>3</th>\n      <td>bca46af56623b6bc5629510f3ad9389435ce2a7c</td>\n      <td>2658129</td>\n      <td>pcmcat212600050008</td>\n      <td>Mac mini</td>\n      <td>2011-09-03 20:37:46.207</td>\n      <td>2011-09-03 20:37:14.278</td>\n    </tr>\n    <tr>\n      <th>4</th>\n      <td>2db68e09833124a0e540875e4f8a74c46f4acab9</td>\n      <td>9375071</td>\n      <td>abcat0206006</td>\n      <td>Pocket radio</td>\n      <td>2011-09-25 20:58:31.433</td>\n      <td>2011-09-25 20:56:21.065</td>\n    </tr>\n  </tbody>\n</table>\n</div>"
     },
     "execution_count": 40,
     "metadata": {},
     "output_type": "execute_result"
    }
   ],
   "source": [
    "clicks.head()"
   ],
   "metadata": {
    "collapsed": false,
    "pycharm": {
     "name": "#%%\n"
    }
   }
  },
  {
   "cell_type": "code",
   "execution_count": 41,
   "outputs": [],
   "source": [
    "# Groupby creates several Data frames each filtered by the query parameter\n",
    "# Useful to use when I have a question as: \"For each category I want to calculate....\"\n",
    "# https://www.youtube.com/watch?v=qy0fDqoMJx8\n",
    "query_gb = clicks.groupby('query')"
   ],
   "metadata": {
    "collapsed": false,
    "pycharm": {
     "name": "#%%\n"
    }
   }
  },
  {
   "cell_type": "markdown",
   "source": [
    "## Most popular queries"
   ],
   "metadata": {
    "collapsed": false,
    "pycharm": {
     "name": "#%% md\n"
    }
   }
  },
  {
   "cell_type": "code",
   "execution_count": 42,
   "outputs": [
    {
     "data": {
      "text/plain": "                                    count\nquery                                    \nHp touchpad                          4704\nhp touchpad                          3567\nTouchpad                             2996\nlcd tv                               2883\niPad                                 2389\n...                                   ...\nPhillips earbuds                        1\nPhillips dvp 3982                       1\nPhillips dual screen dvd                1\nPhillips dual blu                       1\n��Mfr: TOSHIBA ��Model: BDX4200 ��      1\n\n[136663 rows x 1 columns]",
      "text/html": "<div>\n<style scoped>\n    .dataframe tbody tr th:only-of-type {\n        vertical-align: middle;\n    }\n\n    .dataframe tbody tr th {\n        vertical-align: top;\n    }\n\n    .dataframe thead th {\n        text-align: right;\n    }\n</style>\n<table border=\"1\" class=\"dataframe\">\n  <thead>\n    <tr style=\"text-align: right;\">\n      <th></th>\n      <th>count</th>\n    </tr>\n    <tr>\n      <th>query</th>\n      <th></th>\n    </tr>\n  </thead>\n  <tbody>\n    <tr>\n      <th>Hp touchpad</th>\n      <td>4704</td>\n    </tr>\n    <tr>\n      <th>hp touchpad</th>\n      <td>3567</td>\n    </tr>\n    <tr>\n      <th>Touchpad</th>\n      <td>2996</td>\n    </tr>\n    <tr>\n      <th>lcd tv</th>\n      <td>2883</td>\n    </tr>\n    <tr>\n      <th>iPad</th>\n      <td>2389</td>\n    </tr>\n    <tr>\n      <th>...</th>\n      <td>...</td>\n    </tr>\n    <tr>\n      <th>Phillips earbuds</th>\n      <td>1</td>\n    </tr>\n    <tr>\n      <th>Phillips dvp 3982</th>\n      <td>1</td>\n    </tr>\n    <tr>\n      <th>Phillips dual screen dvd</th>\n      <td>1</td>\n    </tr>\n    <tr>\n      <th>Phillips dual blu</th>\n      <td>1</td>\n    </tr>\n    <tr>\n      <th>��Mfr: TOSHIBA ��Model: BDX4200 ��</th>\n      <td>1</td>\n    </tr>\n  </tbody>\n</table>\n<p>136663 rows × 1 columns</p>\n</div>"
     },
     "execution_count": 42,
     "metadata": {},
     "output_type": "execute_result"
    }
   ],
   "source": [
    "# here \"sku\" column is randomly chosen column. Any other column would work as well.\n",
    "query_gb.sku.agg(['count']).sort_values('count', ascending=False)"
   ],
   "metadata": {
    "collapsed": false,
    "pycharm": {
     "name": "#%%\n"
    }
   }
  },
  {
   "cell_type": "markdown",
   "source": [
    "## Number of \"iphone\" queries"
   ],
   "metadata": {
    "collapsed": false,
    "pycharm": {
     "name": "#%% md\n"
    }
   }
  },
  {
   "cell_type": "code",
   "execution_count": 43,
   "outputs": [],
   "source": [
    "iphones = query_gb.get_group('iphone')"
   ],
   "metadata": {
    "collapsed": false,
    "pycharm": {
     "name": "#%%\n"
    }
   }
  },
  {
   "cell_type": "code",
   "execution_count": 44,
   "outputs": [
    {
     "data": {
      "text/plain": "272"
     },
     "execution_count": 44,
     "metadata": {},
     "output_type": "execute_result"
    }
   ],
   "source": [
    "iphones['sku'].count()"
   ],
   "metadata": {
    "collapsed": false,
    "pycharm": {
     "name": "#%%\n"
    }
   }
  },
  {
   "cell_type": "markdown",
   "source": [
    "## Most clicked SKU for \"iphone\" query"
   ],
   "metadata": {
    "collapsed": false,
    "pycharm": {
     "name": "#%% md\n"
    }
   }
  },
  {
   "cell_type": "code",
   "execution_count": 45,
   "outputs": [],
   "source": [
    "iphones = query_gb.get_group('iphone')"
   ],
   "metadata": {
    "collapsed": false,
    "pycharm": {
     "name": "#%%\n"
    }
   }
  },
  {
   "cell_type": "code",
   "execution_count": 46,
   "outputs": [
    {
     "data": {
      "text/plain": "272"
     },
     "execution_count": 46,
     "metadata": {},
     "output_type": "execute_result"
    }
   ],
   "source": [
    "iphones['sku'].count()"
   ],
   "metadata": {
    "collapsed": false,
    "pycharm": {
     "name": "#%%\n"
    }
   }
  },
  {
   "cell_type": "markdown",
   "source": [
    "## Most clicked SKU for \"iphone\" query"
   ],
   "metadata": {
    "collapsed": false,
    "pycharm": {
     "name": "#%% md\n"
    }
   }
  },
  {
   "cell_type": "code",
   "execution_count": 47,
   "outputs": [],
   "source": [
    "iphones = query_gb.get_group('iphone')"
   ],
   "metadata": {
    "collapsed": false,
    "pycharm": {
     "name": "#%%\n"
    }
   }
  },
  {
   "cell_type": "code",
   "execution_count": 48,
   "outputs": [],
   "source": [
    "sku_gb = iphones.groupby('sku')"
   ],
   "metadata": {
    "collapsed": false,
    "pycharm": {
     "name": "#%%\n"
    }
   }
  },
  {
   "cell_type": "code",
   "execution_count": 49,
   "outputs": [
    {
     "data": {
      "text/plain": "          count\nsku            \n2901031      32\n9929953       8\n8477908       7\n1644129       5\n9325624       5\n8443259       5\n7966481       3\n2726333       3\n8405923       3\n19498258      2\n8913018       2\n7601339       2\n7841179       2\n9530206       1\n9287265       1\n8900282       1\n1067587       1\n1222413       1\n6884071       1\n3369286       1\n3232178       1\n2939201       1\n2834322       1\n2416348       1\n1439236       1\n1363949       1\n7342663       1",
      "text/html": "<div>\n<style scoped>\n    .dataframe tbody tr th:only-of-type {\n        vertical-align: middle;\n    }\n\n    .dataframe tbody tr th {\n        vertical-align: top;\n    }\n\n    .dataframe thead th {\n        text-align: right;\n    }\n</style>\n<table border=\"1\" class=\"dataframe\">\n  <thead>\n    <tr style=\"text-align: right;\">\n      <th></th>\n      <th>count</th>\n    </tr>\n    <tr>\n      <th>sku</th>\n      <th></th>\n    </tr>\n  </thead>\n  <tbody>\n    <tr>\n      <th>2901031</th>\n      <td>32</td>\n    </tr>\n    <tr>\n      <th>9929953</th>\n      <td>8</td>\n    </tr>\n    <tr>\n      <th>8477908</th>\n      <td>7</td>\n    </tr>\n    <tr>\n      <th>1644129</th>\n      <td>5</td>\n    </tr>\n    <tr>\n      <th>9325624</th>\n      <td>5</td>\n    </tr>\n    <tr>\n      <th>8443259</th>\n      <td>5</td>\n    </tr>\n    <tr>\n      <th>7966481</th>\n      <td>3</td>\n    </tr>\n    <tr>\n      <th>2726333</th>\n      <td>3</td>\n    </tr>\n    <tr>\n      <th>8405923</th>\n      <td>3</td>\n    </tr>\n    <tr>\n      <th>19498258</th>\n      <td>2</td>\n    </tr>\n    <tr>\n      <th>8913018</th>\n      <td>2</td>\n    </tr>\n    <tr>\n      <th>7601339</th>\n      <td>2</td>\n    </tr>\n    <tr>\n      <th>7841179</th>\n      <td>2</td>\n    </tr>\n    <tr>\n      <th>9530206</th>\n      <td>1</td>\n    </tr>\n    <tr>\n      <th>9287265</th>\n      <td>1</td>\n    </tr>\n    <tr>\n      <th>8900282</th>\n      <td>1</td>\n    </tr>\n    <tr>\n      <th>1067587</th>\n      <td>1</td>\n    </tr>\n    <tr>\n      <th>1222413</th>\n      <td>1</td>\n    </tr>\n    <tr>\n      <th>6884071</th>\n      <td>1</td>\n    </tr>\n    <tr>\n      <th>3369286</th>\n      <td>1</td>\n    </tr>\n    <tr>\n      <th>3232178</th>\n      <td>1</td>\n    </tr>\n    <tr>\n      <th>2939201</th>\n      <td>1</td>\n    </tr>\n    <tr>\n      <th>2834322</th>\n      <td>1</td>\n    </tr>\n    <tr>\n      <th>2416348</th>\n      <td>1</td>\n    </tr>\n    <tr>\n      <th>1439236</th>\n      <td>1</td>\n    </tr>\n    <tr>\n      <th>1363949</th>\n      <td>1</td>\n    </tr>\n    <tr>\n      <th>7342663</th>\n      <td>1</td>\n    </tr>\n  </tbody>\n</table>\n</div>"
     },
     "execution_count": 49,
     "metadata": {},
     "output_type": "execute_result"
    }
   ],
   "source": [
    "sku_gb.user.agg(['count']).sort_values('count', ascending=False)"
   ],
   "metadata": {
    "collapsed": false,
    "pycharm": {
     "name": "#%%\n"
    }
   }
  },
  {
   "cell_type": "markdown",
   "source": [
    "## Most clicked \"Category\" for \"iphone\" query"
   ],
   "metadata": {
    "collapsed": false,
    "pycharm": {
     "name": "#%% md\n"
    }
   }
  },
  {
   "cell_type": "code",
   "execution_count": 50,
   "outputs": [],
   "source": [
    "category_gb = iphones.groupby('category')"
   ],
   "metadata": {
    "collapsed": false,
    "pycharm": {
     "name": "#%%\n"
    }
   }
  },
  {
   "cell_type": "code",
   "execution_count": 51,
   "outputs": [
    {
     "data": {
      "text/plain": "                    count\ncategory                 \ncat02015               55\ncat02724               15\npcmcat232900050017      8\ncat02661                3\nabcat0307019            1\nabcat0901004            1\nabcat0915010            1\ncat02009                1\ncat02012                1\ncat02702                1\ncat09000                1\npcmcat194500050006      1\npcmcat209400050001      1\npcmcat209400050003      1\npcmcat225000050009      1\npcmcat247600050018      1",
      "text/html": "<div>\n<style scoped>\n    .dataframe tbody tr th:only-of-type {\n        vertical-align: middle;\n    }\n\n    .dataframe tbody tr th {\n        vertical-align: top;\n    }\n\n    .dataframe thead th {\n        text-align: right;\n    }\n</style>\n<table border=\"1\" class=\"dataframe\">\n  <thead>\n    <tr style=\"text-align: right;\">\n      <th></th>\n      <th>count</th>\n    </tr>\n    <tr>\n      <th>category</th>\n      <th></th>\n    </tr>\n  </thead>\n  <tbody>\n    <tr>\n      <th>cat02015</th>\n      <td>55</td>\n    </tr>\n    <tr>\n      <th>cat02724</th>\n      <td>15</td>\n    </tr>\n    <tr>\n      <th>pcmcat232900050017</th>\n      <td>8</td>\n    </tr>\n    <tr>\n      <th>cat02661</th>\n      <td>3</td>\n    </tr>\n    <tr>\n      <th>abcat0307019</th>\n      <td>1</td>\n    </tr>\n    <tr>\n      <th>abcat0901004</th>\n      <td>1</td>\n    </tr>\n    <tr>\n      <th>abcat0915010</th>\n      <td>1</td>\n    </tr>\n    <tr>\n      <th>cat02009</th>\n      <td>1</td>\n    </tr>\n    <tr>\n      <th>cat02012</th>\n      <td>1</td>\n    </tr>\n    <tr>\n      <th>cat02702</th>\n      <td>1</td>\n    </tr>\n    <tr>\n      <th>cat09000</th>\n      <td>1</td>\n    </tr>\n    <tr>\n      <th>pcmcat194500050006</th>\n      <td>1</td>\n    </tr>\n    <tr>\n      <th>pcmcat209400050001</th>\n      <td>1</td>\n    </tr>\n    <tr>\n      <th>pcmcat209400050003</th>\n      <td>1</td>\n    </tr>\n    <tr>\n      <th>pcmcat225000050009</th>\n      <td>1</td>\n    </tr>\n    <tr>\n      <th>pcmcat247600050018</th>\n      <td>1</td>\n    </tr>\n  </tbody>\n</table>\n</div>"
     },
     "execution_count": 51,
     "metadata": {},
     "output_type": "execute_result"
    }
   ],
   "source": [
    "category_gb.user.agg(['count']).sort_values('count', ascending=False)"
   ],
   "metadata": {
    "collapsed": false,
    "pycharm": {
     "name": "#%%\n"
    }
   }
  },
  {
   "cell_type": "markdown",
   "source": [
    "## Most popular queries and most selected SKU for it"
   ],
   "metadata": {
    "collapsed": false,
    "pycharm": {
     "name": "#%% md\n"
    }
   }
  },
  {
   "cell_type": "code",
   "execution_count": 52,
   "outputs": [
    {
     "data": {
      "text/plain": "                                            count\nquery                              sku           \nHp touchpad                        2842056   2749\nhp touchpad                        2842056   2041\nTouchpad                           2842056   1766\nHp touchpad                        2842092   1535\ntouchpad                           2842056   1304\n...                                           ...\nPaul wall                          1669067      1\nPaul! DVD                          2871103      1\nPaul: dvd                          2871185      1\nPaula Abdul                        8319535      1\n��Mfr: TOSHIBA ��Model: BDX4200 �� 2114042      1\n\n[302695 rows x 1 columns]",
      "text/html": "<div>\n<style scoped>\n    .dataframe tbody tr th:only-of-type {\n        vertical-align: middle;\n    }\n\n    .dataframe tbody tr th {\n        vertical-align: top;\n    }\n\n    .dataframe thead th {\n        text-align: right;\n    }\n</style>\n<table border=\"1\" class=\"dataframe\">\n  <thead>\n    <tr style=\"text-align: right;\">\n      <th></th>\n      <th></th>\n      <th>count</th>\n    </tr>\n    <tr>\n      <th>query</th>\n      <th>sku</th>\n      <th></th>\n    </tr>\n  </thead>\n  <tbody>\n    <tr>\n      <th>Hp touchpad</th>\n      <th>2842056</th>\n      <td>2749</td>\n    </tr>\n    <tr>\n      <th>hp touchpad</th>\n      <th>2842056</th>\n      <td>2041</td>\n    </tr>\n    <tr>\n      <th>Touchpad</th>\n      <th>2842056</th>\n      <td>1766</td>\n    </tr>\n    <tr>\n      <th>Hp touchpad</th>\n      <th>2842092</th>\n      <td>1535</td>\n    </tr>\n    <tr>\n      <th>touchpad</th>\n      <th>2842056</th>\n      <td>1304</td>\n    </tr>\n    <tr>\n      <th>...</th>\n      <th>...</th>\n      <td>...</td>\n    </tr>\n    <tr>\n      <th>Paul wall</th>\n      <th>1669067</th>\n      <td>1</td>\n    </tr>\n    <tr>\n      <th>Paul! DVD</th>\n      <th>2871103</th>\n      <td>1</td>\n    </tr>\n    <tr>\n      <th>Paul: dvd</th>\n      <th>2871185</th>\n      <td>1</td>\n    </tr>\n    <tr>\n      <th>Paula Abdul</th>\n      <th>8319535</th>\n      <td>1</td>\n    </tr>\n    <tr>\n      <th>��Mfr: TOSHIBA ��Model: BDX4200 ��</th>\n      <th>2114042</th>\n      <td>1</td>\n    </tr>\n  </tbody>\n</table>\n<p>302695 rows × 1 columns</p>\n</div>"
     },
     "execution_count": 52,
     "metadata": {},
     "output_type": "execute_result"
    }
   ],
   "source": [
    "clicks.groupby(['query', 'sku']).sku.agg(['count']).sort_values(by='count', ascending=False)"
   ],
   "metadata": {
    "collapsed": false,
    "pycharm": {
     "name": "#%%\n"
    }
   }
  }
 ],
 "metadata": {
  "kernelspec": {
   "display_name": "Python 3 (ipykernel)",
   "language": "python",
   "name": "python3"
  },
  "language_info": {
   "codemirror_mode": {
    "name": "ipython",
    "version": 3
   },
   "file_extension": ".py",
   "mimetype": "text/x-python",
   "name": "python",
   "nbconvert_exporter": "python",
   "pygments_lexer": "ipython3",
   "version": "3.8.6"
  }
 },
 "nbformat": 4,
 "nbformat_minor": 1
}