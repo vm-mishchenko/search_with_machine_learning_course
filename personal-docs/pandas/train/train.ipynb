{
 "cells": [
  {
   "cell_type": "code",
   "execution_count": 56,
   "outputs": [],
   "source": [
    "import pandas as pd"
   ],
   "metadata": {
    "collapsed": false,
    "pycharm": {
     "name": "#%%\n"
    }
   }
  },
  {
   "cell_type": "code",
   "execution_count": 57,
   "outputs": [],
   "source": [
    "# excluded ./train.csv file from Git as it's too big\n",
    "clicks = pd.read_csv('./train.csv', na_values='?', encoding=\"utf-8-sig\")"
   ],
   "metadata": {
    "collapsed": false,
    "pycharm": {
     "name": "#%%\n"
    }
   }
  },
  {
   "cell_type": "code",
   "execution_count": 58,
   "outputs": [
    {
     "data": {
      "text/plain": "                                       user      sku            category  \\\n0  e9ede3a279fa13a68f65962250b1f363940c9402  1700116  pcmcat212600050008   \n1  5c1f88c38df2f4d930d8c2064831d532e7065d59  3201566            cat02015   \n2  7f8b6cd162600c1e3e85d45b114227b7ce981cb2  2550164            cat02015   \n3  d9941a7698098b4e770524491128523c504ea782  2731908        abcat0101001   \n4  84ed33087ba454969ae9a00566d5992e12d72415  2067044        abcat0205006   \n\n              query               click_time               query_time  \n0           1700116  2011-09-22 09:15:15.088  2011-09-22 09:15:01.818  \n1         Star wars  2011-09-08 06:31:27.507  2011-09-08 06:31:00.867  \n2         Star wars  2011-09-16 08:55:35.672  2011-09-16 08:55:24.038  \n3  Westinghouse led  2011-09-23 00:03:27.161  2011-09-23 00:00:30.504  \n4          Dj mixer  2011-08-17 16:49:02.259  2011-08-17 16:47:05.988  ",
      "text/html": "<div>\n<style scoped>\n    .dataframe tbody tr th:only-of-type {\n        vertical-align: middle;\n    }\n\n    .dataframe tbody tr th {\n        vertical-align: top;\n    }\n\n    .dataframe thead th {\n        text-align: right;\n    }\n</style>\n<table border=\"1\" class=\"dataframe\">\n  <thead>\n    <tr style=\"text-align: right;\">\n      <th></th>\n      <th>user</th>\n      <th>sku</th>\n      <th>category</th>\n      <th>query</th>\n      <th>click_time</th>\n      <th>query_time</th>\n    </tr>\n  </thead>\n  <tbody>\n    <tr>\n      <th>0</th>\n      <td>e9ede3a279fa13a68f65962250b1f363940c9402</td>\n      <td>1700116</td>\n      <td>pcmcat212600050008</td>\n      <td>1700116</td>\n      <td>2011-09-22 09:15:15.088</td>\n      <td>2011-09-22 09:15:01.818</td>\n    </tr>\n    <tr>\n      <th>1</th>\n      <td>5c1f88c38df2f4d930d8c2064831d532e7065d59</td>\n      <td>3201566</td>\n      <td>cat02015</td>\n      <td>Star wars</td>\n      <td>2011-09-08 06:31:27.507</td>\n      <td>2011-09-08 06:31:00.867</td>\n    </tr>\n    <tr>\n      <th>2</th>\n      <td>7f8b6cd162600c1e3e85d45b114227b7ce981cb2</td>\n      <td>2550164</td>\n      <td>cat02015</td>\n      <td>Star wars</td>\n      <td>2011-09-16 08:55:35.672</td>\n      <td>2011-09-16 08:55:24.038</td>\n    </tr>\n    <tr>\n      <th>3</th>\n      <td>d9941a7698098b4e770524491128523c504ea782</td>\n      <td>2731908</td>\n      <td>abcat0101001</td>\n      <td>Westinghouse led</td>\n      <td>2011-09-23 00:03:27.161</td>\n      <td>2011-09-23 00:00:30.504</td>\n    </tr>\n    <tr>\n      <th>4</th>\n      <td>84ed33087ba454969ae9a00566d5992e12d72415</td>\n      <td>2067044</td>\n      <td>abcat0205006</td>\n      <td>Dj mixer</td>\n      <td>2011-08-17 16:49:02.259</td>\n      <td>2011-08-17 16:47:05.988</td>\n    </tr>\n  </tbody>\n</table>\n</div>"
     },
     "execution_count": 58,
     "metadata": {},
     "output_type": "execute_result"
    }
   ],
   "source": [
    "clicks.head()"
   ],
   "metadata": {
    "collapsed": false,
    "pycharm": {
     "name": "#%%\n"
    }
   }
  },
  {
   "cell_type": "code",
   "execution_count": 59,
   "outputs": [],
   "source": [
    "# Groupby creates several Data frames each filtered by the query parameter\n",
    "# Useful to use when I have a question as: \"For each category I want to calculate....\"\n",
    "# https://www.youtube.com/watch?v=qy0fDqoMJx8\n",
    "query_gb = clicks.groupby('query')"
   ],
   "metadata": {
    "collapsed": false,
    "pycharm": {
     "name": "#%%\n"
    }
   }
  },
  {
   "cell_type": "markdown",
   "source": [
    "## Most popular queries"
   ],
   "metadata": {
    "collapsed": false,
    "pycharm": {
     "name": "#%% md\n"
    }
   }
  },
  {
   "cell_type": "code",
   "execution_count": 60,
   "outputs": [
    {
     "data": {
      "text/plain": "                                                    count\nquery                                                    \nHp touchpad                                          7176\nhp touchpad                                          5442\nTouchpad                                             4612\nlcd tv                                               4397\niPad                                                 3643\n...                                                   ...\nPanasonic- Lumix ZS10                                   1\nPanasonic- Lumix TS3                                    1\nPanasonic zs8 digital camera                            1\nPanasonic zs8 bundle                                    1\n����� HP DV5-2074DX 14.5in Laptop i3 2.13GHz 3G...      1\n\n[181657 rows x 1 columns]",
      "text/html": "<div>\n<style scoped>\n    .dataframe tbody tr th:only-of-type {\n        vertical-align: middle;\n    }\n\n    .dataframe tbody tr th {\n        vertical-align: top;\n    }\n\n    .dataframe thead th {\n        text-align: right;\n    }\n</style>\n<table border=\"1\" class=\"dataframe\">\n  <thead>\n    <tr style=\"text-align: right;\">\n      <th></th>\n      <th>count</th>\n    </tr>\n    <tr>\n      <th>query</th>\n      <th></th>\n    </tr>\n  </thead>\n  <tbody>\n    <tr>\n      <th>Hp touchpad</th>\n      <td>7176</td>\n    </tr>\n    <tr>\n      <th>hp touchpad</th>\n      <td>5442</td>\n    </tr>\n    <tr>\n      <th>Touchpad</th>\n      <td>4612</td>\n    </tr>\n    <tr>\n      <th>lcd tv</th>\n      <td>4397</td>\n    </tr>\n    <tr>\n      <th>iPad</th>\n      <td>3643</td>\n    </tr>\n    <tr>\n      <th>...</th>\n      <td>...</td>\n    </tr>\n    <tr>\n      <th>Panasonic- Lumix ZS10</th>\n      <td>1</td>\n    </tr>\n    <tr>\n      <th>Panasonic- Lumix TS3</th>\n      <td>1</td>\n    </tr>\n    <tr>\n      <th>Panasonic zs8 digital camera</th>\n      <td>1</td>\n    </tr>\n    <tr>\n      <th>Panasonic zs8 bundle</th>\n      <td>1</td>\n    </tr>\n    <tr>\n      <th>����� HP DV5-2074DX 14.5in Laptop i3 2.13GHz 3GB 250GB DVDRW</th>\n      <td>1</td>\n    </tr>\n  </tbody>\n</table>\n<p>181657 rows × 1 columns</p>\n</div>"
     },
     "execution_count": 60,
     "metadata": {},
     "output_type": "execute_result"
    }
   ],
   "source": [
    "# here \"sku\" column is randomly chosen column. Any other column would work as well.\n",
    "query_gb.sku.agg(['count']).sort_values('count', ascending=False)"
   ],
   "metadata": {
    "collapsed": false,
    "pycharm": {
     "name": "#%%\n"
    }
   }
  },
  {
   "cell_type": "markdown",
   "source": [
    "## Number of \"iphone\" queries"
   ],
   "metadata": {
    "collapsed": false,
    "pycharm": {
     "name": "#%% md\n"
    }
   }
  },
  {
   "cell_type": "code",
   "execution_count": 61,
   "outputs": [],
   "source": [
    "iphones = query_gb.get_group('iphone')"
   ],
   "metadata": {
    "collapsed": false,
    "pycharm": {
     "name": "#%%\n"
    }
   }
  },
  {
   "cell_type": "code",
   "execution_count": 62,
   "outputs": [
    {
     "data": {
      "text/plain": "419"
     },
     "execution_count": 62,
     "metadata": {},
     "output_type": "execute_result"
    }
   ],
   "source": [
    "iphones['sku'].count()"
   ],
   "metadata": {
    "collapsed": false,
    "pycharm": {
     "name": "#%%\n"
    }
   }
  },
  {
   "cell_type": "markdown",
   "source": [
    "## Most clicked SKU for \"iphone\" query"
   ],
   "metadata": {
    "collapsed": false,
    "pycharm": {
     "name": "#%% md\n"
    }
   }
  },
  {
   "cell_type": "code",
   "execution_count": 63,
   "outputs": [],
   "source": [
    "iphones = query_gb.get_group('iphone')"
   ],
   "metadata": {
    "collapsed": false,
    "pycharm": {
     "name": "#%%\n"
    }
   }
  },
  {
   "cell_type": "code",
   "execution_count": 64,
   "outputs": [
    {
     "data": {
      "text/plain": "419"
     },
     "execution_count": 64,
     "metadata": {},
     "output_type": "execute_result"
    }
   ],
   "source": [
    "iphones['sku'].count()"
   ],
   "metadata": {
    "collapsed": false,
    "pycharm": {
     "name": "#%%\n"
    }
   }
  },
  {
   "cell_type": "markdown",
   "source": [
    "## Most clicked SKU for \"iphone\" query"
   ],
   "metadata": {
    "collapsed": false,
    "pycharm": {
     "name": "#%% md\n"
    }
   }
  },
  {
   "cell_type": "code",
   "execution_count": 65,
   "outputs": [],
   "source": [
    "iphones = query_gb.get_group('iphone')"
   ],
   "metadata": {
    "collapsed": false,
    "pycharm": {
     "name": "#%%\n"
    }
   }
  },
  {
   "cell_type": "code",
   "execution_count": 66,
   "outputs": [],
   "source": [
    "sku_gb = iphones.groupby('sku')"
   ],
   "metadata": {
    "collapsed": false,
    "pycharm": {
     "name": "#%%\n"
    }
   }
  },
  {
   "cell_type": "code",
   "execution_count": 67,
   "outputs": [
    {
     "data": {
      "text/plain": "          count\nsku            \n1049236      47\n1048998      43\n2833769      31\n2643427      24\n1049078      24\n...         ...\n1989213       1\n1983316       1\n1972308       1\n1950181       1\n18268199      1\n\n[132 rows x 1 columns]",
      "text/html": "<div>\n<style scoped>\n    .dataframe tbody tr th:only-of-type {\n        vertical-align: middle;\n    }\n\n    .dataframe tbody tr th {\n        vertical-align: top;\n    }\n\n    .dataframe thead th {\n        text-align: right;\n    }\n</style>\n<table border=\"1\" class=\"dataframe\">\n  <thead>\n    <tr style=\"text-align: right;\">\n      <th></th>\n      <th>count</th>\n    </tr>\n    <tr>\n      <th>sku</th>\n      <th></th>\n    </tr>\n  </thead>\n  <tbody>\n    <tr>\n      <th>1049236</th>\n      <td>47</td>\n    </tr>\n    <tr>\n      <th>1048998</th>\n      <td>43</td>\n    </tr>\n    <tr>\n      <th>2833769</th>\n      <td>31</td>\n    </tr>\n    <tr>\n      <th>2643427</th>\n      <td>24</td>\n    </tr>\n    <tr>\n      <th>1049078</th>\n      <td>24</td>\n    </tr>\n    <tr>\n      <th>...</th>\n      <td>...</td>\n    </tr>\n    <tr>\n      <th>1989213</th>\n      <td>1</td>\n    </tr>\n    <tr>\n      <th>1983316</th>\n      <td>1</td>\n    </tr>\n    <tr>\n      <th>1972308</th>\n      <td>1</td>\n    </tr>\n    <tr>\n      <th>1950181</th>\n      <td>1</td>\n    </tr>\n    <tr>\n      <th>18268199</th>\n      <td>1</td>\n    </tr>\n  </tbody>\n</table>\n<p>132 rows × 1 columns</p>\n</div>"
     },
     "execution_count": 67,
     "metadata": {},
     "output_type": "execute_result"
    }
   ],
   "source": [
    "sku_gb.user.agg(['count']).sort_values('count', ascending=False)"
   ],
   "metadata": {
    "collapsed": false,
    "pycharm": {
     "name": "#%%\n"
    }
   }
  },
  {
   "cell_type": "markdown",
   "source": [
    "## Most clicked \"Category\" for \"iphone\" query"
   ],
   "metadata": {
    "collapsed": false,
    "pycharm": {
     "name": "#%% md\n"
    }
   }
  },
  {
   "cell_type": "code",
   "execution_count": 68,
   "outputs": [],
   "source": [
    "category_gb = iphones.groupby('category')"
   ],
   "metadata": {
    "collapsed": false,
    "pycharm": {
     "name": "#%%\n"
    }
   }
  },
  {
   "cell_type": "code",
   "execution_count": 69,
   "outputs": [
    {
     "data": {
      "text/plain": "                    count\ncategory                 \npcmcat209400050001    192\npcmcat214700050001     31\npcmcat156400050037     29\npcmcat171900050024     13\ncat02015               13\npcmcat171900050029     13\npcmcat207900050011     12\nabcat0208009           10\npcmcat208100050009      9\nabcat0208011            8\npcmcat214700050000      7\npcmcat194300050005      7\nabcat0410003            6\npcmcat214900050004      6\ncat09000                5\npcmcat201900050009      3\npcmcat191200050015      3\npcmcat209000050008      2\npcmcat247400050000      2\npcmcat162100050040      2\npcmcat158400050073      2\nabcat0101001            2\nabcat0403004            2\npcmcat144700050004      2\nabcat0201011            2\nabcat0301006            2\nabcat0307026            2\npcmcat50300050014       2\npcmcat143700050032      2\nabcat0107040            1\npcmcat165900050040      1\npcmcat246100050002      1\npcmcat242000050009      1\npcmcat233400050011      1\npcmcat231000050009      1\npcmcat225000050009      1\npcmcat220800050021      1\npcmcat218000050001      1\nabcat0206006            1\ncat02702                1\nabcat0302013            1\nabcat0307017            1\npcmcat209000050007      1\npcmcat171900050025      1\nabcat0401004            1\npcmcat207900050012      1\npcmcat165900050048      1\nabcat0703001            1\npcmcat201900050008      1\nabcat0901001            1\npcmcat193100050017      1\npcmcat193100050014      1\nabcat0903003            1\npcmcat186400050002      1\ncat02010                1\npcmcat171900050028      1\npcmcat152100050022      1",
      "text/html": "<div>\n<style scoped>\n    .dataframe tbody tr th:only-of-type {\n        vertical-align: middle;\n    }\n\n    .dataframe tbody tr th {\n        vertical-align: top;\n    }\n\n    .dataframe thead th {\n        text-align: right;\n    }\n</style>\n<table border=\"1\" class=\"dataframe\">\n  <thead>\n    <tr style=\"text-align: right;\">\n      <th></th>\n      <th>count</th>\n    </tr>\n    <tr>\n      <th>category</th>\n      <th></th>\n    </tr>\n  </thead>\n  <tbody>\n    <tr>\n      <th>pcmcat209400050001</th>\n      <td>192</td>\n    </tr>\n    <tr>\n      <th>pcmcat214700050001</th>\n      <td>31</td>\n    </tr>\n    <tr>\n      <th>pcmcat156400050037</th>\n      <td>29</td>\n    </tr>\n    <tr>\n      <th>pcmcat171900050024</th>\n      <td>13</td>\n    </tr>\n    <tr>\n      <th>cat02015</th>\n      <td>13</td>\n    </tr>\n    <tr>\n      <th>pcmcat171900050029</th>\n      <td>13</td>\n    </tr>\n    <tr>\n      <th>pcmcat207900050011</th>\n      <td>12</td>\n    </tr>\n    <tr>\n      <th>abcat0208009</th>\n      <td>10</td>\n    </tr>\n    <tr>\n      <th>pcmcat208100050009</th>\n      <td>9</td>\n    </tr>\n    <tr>\n      <th>abcat0208011</th>\n      <td>8</td>\n    </tr>\n    <tr>\n      <th>pcmcat214700050000</th>\n      <td>7</td>\n    </tr>\n    <tr>\n      <th>pcmcat194300050005</th>\n      <td>7</td>\n    </tr>\n    <tr>\n      <th>abcat0410003</th>\n      <td>6</td>\n    </tr>\n    <tr>\n      <th>pcmcat214900050004</th>\n      <td>6</td>\n    </tr>\n    <tr>\n      <th>cat09000</th>\n      <td>5</td>\n    </tr>\n    <tr>\n      <th>pcmcat201900050009</th>\n      <td>3</td>\n    </tr>\n    <tr>\n      <th>pcmcat191200050015</th>\n      <td>3</td>\n    </tr>\n    <tr>\n      <th>pcmcat209000050008</th>\n      <td>2</td>\n    </tr>\n    <tr>\n      <th>pcmcat247400050000</th>\n      <td>2</td>\n    </tr>\n    <tr>\n      <th>pcmcat162100050040</th>\n      <td>2</td>\n    </tr>\n    <tr>\n      <th>pcmcat158400050073</th>\n      <td>2</td>\n    </tr>\n    <tr>\n      <th>abcat0101001</th>\n      <td>2</td>\n    </tr>\n    <tr>\n      <th>abcat0403004</th>\n      <td>2</td>\n    </tr>\n    <tr>\n      <th>pcmcat144700050004</th>\n      <td>2</td>\n    </tr>\n    <tr>\n      <th>abcat0201011</th>\n      <td>2</td>\n    </tr>\n    <tr>\n      <th>abcat0301006</th>\n      <td>2</td>\n    </tr>\n    <tr>\n      <th>abcat0307026</th>\n      <td>2</td>\n    </tr>\n    <tr>\n      <th>pcmcat50300050014</th>\n      <td>2</td>\n    </tr>\n    <tr>\n      <th>pcmcat143700050032</th>\n      <td>2</td>\n    </tr>\n    <tr>\n      <th>abcat0107040</th>\n      <td>1</td>\n    </tr>\n    <tr>\n      <th>pcmcat165900050040</th>\n      <td>1</td>\n    </tr>\n    <tr>\n      <th>pcmcat246100050002</th>\n      <td>1</td>\n    </tr>\n    <tr>\n      <th>pcmcat242000050009</th>\n      <td>1</td>\n    </tr>\n    <tr>\n      <th>pcmcat233400050011</th>\n      <td>1</td>\n    </tr>\n    <tr>\n      <th>pcmcat231000050009</th>\n      <td>1</td>\n    </tr>\n    <tr>\n      <th>pcmcat225000050009</th>\n      <td>1</td>\n    </tr>\n    <tr>\n      <th>pcmcat220800050021</th>\n      <td>1</td>\n    </tr>\n    <tr>\n      <th>pcmcat218000050001</th>\n      <td>1</td>\n    </tr>\n    <tr>\n      <th>abcat0206006</th>\n      <td>1</td>\n    </tr>\n    <tr>\n      <th>cat02702</th>\n      <td>1</td>\n    </tr>\n    <tr>\n      <th>abcat0302013</th>\n      <td>1</td>\n    </tr>\n    <tr>\n      <th>abcat0307017</th>\n      <td>1</td>\n    </tr>\n    <tr>\n      <th>pcmcat209000050007</th>\n      <td>1</td>\n    </tr>\n    <tr>\n      <th>pcmcat171900050025</th>\n      <td>1</td>\n    </tr>\n    <tr>\n      <th>abcat0401004</th>\n      <td>1</td>\n    </tr>\n    <tr>\n      <th>pcmcat207900050012</th>\n      <td>1</td>\n    </tr>\n    <tr>\n      <th>pcmcat165900050048</th>\n      <td>1</td>\n    </tr>\n    <tr>\n      <th>abcat0703001</th>\n      <td>1</td>\n    </tr>\n    <tr>\n      <th>pcmcat201900050008</th>\n      <td>1</td>\n    </tr>\n    <tr>\n      <th>abcat0901001</th>\n      <td>1</td>\n    </tr>\n    <tr>\n      <th>pcmcat193100050017</th>\n      <td>1</td>\n    </tr>\n    <tr>\n      <th>pcmcat193100050014</th>\n      <td>1</td>\n    </tr>\n    <tr>\n      <th>abcat0903003</th>\n      <td>1</td>\n    </tr>\n    <tr>\n      <th>pcmcat186400050002</th>\n      <td>1</td>\n    </tr>\n    <tr>\n      <th>cat02010</th>\n      <td>1</td>\n    </tr>\n    <tr>\n      <th>pcmcat171900050028</th>\n      <td>1</td>\n    </tr>\n    <tr>\n      <th>pcmcat152100050022</th>\n      <td>1</td>\n    </tr>\n  </tbody>\n</table>\n</div>"
     },
     "execution_count": 69,
     "metadata": {},
     "output_type": "execute_result"
    }
   ],
   "source": [
    "category_gb.user.agg(['count']).sort_values('count', ascending=False)"
   ],
   "metadata": {
    "collapsed": false,
    "pycharm": {
     "name": "#%%\n"
    }
   }
  },
  {
   "cell_type": "markdown",
   "source": [
    "## Most popular queries and most selected SKU for it"
   ],
   "metadata": {
    "collapsed": false,
    "pycharm": {
     "name": "#%% md\n"
    }
   }
  },
  {
   "cell_type": "code",
   "execution_count": 70,
   "outputs": [
    {
     "data": {
      "text/plain": "                                                            count\nquery                                              sku           \nHp touchpad                                        2842056   4175\nhp touchpad                                        2842056   3090\nTouchpad                                           2842056   2715\nHp touchpad                                        2842092   2356\ntouchpad                                           2842056   1936\n...                                                           ...\nPci ssd                                            2383142      1\nPci sata                                           9938679      1\nPci network card                                   8350802      1\n                                                   8333868      1\n����� HP DV5-2074DX 14.5in Laptop i3 2.13GHz 3G... 2660188      1\n\n[427063 rows x 1 columns]",
      "text/html": "<div>\n<style scoped>\n    .dataframe tbody tr th:only-of-type {\n        vertical-align: middle;\n    }\n\n    .dataframe tbody tr th {\n        vertical-align: top;\n    }\n\n    .dataframe thead th {\n        text-align: right;\n    }\n</style>\n<table border=\"1\" class=\"dataframe\">\n  <thead>\n    <tr style=\"text-align: right;\">\n      <th></th>\n      <th></th>\n      <th>count</th>\n    </tr>\n    <tr>\n      <th>query</th>\n      <th>sku</th>\n      <th></th>\n    </tr>\n  </thead>\n  <tbody>\n    <tr>\n      <th>Hp touchpad</th>\n      <th>2842056</th>\n      <td>4175</td>\n    </tr>\n    <tr>\n      <th>hp touchpad</th>\n      <th>2842056</th>\n      <td>3090</td>\n    </tr>\n    <tr>\n      <th>Touchpad</th>\n      <th>2842056</th>\n      <td>2715</td>\n    </tr>\n    <tr>\n      <th>Hp touchpad</th>\n      <th>2842092</th>\n      <td>2356</td>\n    </tr>\n    <tr>\n      <th>touchpad</th>\n      <th>2842056</th>\n      <td>1936</td>\n    </tr>\n    <tr>\n      <th>...</th>\n      <th>...</th>\n      <td>...</td>\n    </tr>\n    <tr>\n      <th>Pci ssd</th>\n      <th>2383142</th>\n      <td>1</td>\n    </tr>\n    <tr>\n      <th>Pci sata</th>\n      <th>9938679</th>\n      <td>1</td>\n    </tr>\n    <tr>\n      <th rowspan=\"2\" valign=\"top\">Pci network card</th>\n      <th>8350802</th>\n      <td>1</td>\n    </tr>\n    <tr>\n      <th>8333868</th>\n      <td>1</td>\n    </tr>\n    <tr>\n      <th>����� HP DV5-2074DX 14.5in Laptop i3 2.13GHz 3GB 250GB DVDRW</th>\n      <th>2660188</th>\n      <td>1</td>\n    </tr>\n  </tbody>\n</table>\n<p>427063 rows × 1 columns</p>\n</div>"
     },
     "execution_count": 70,
     "metadata": {},
     "output_type": "execute_result"
    }
   ],
   "source": [
    "clicks.groupby(['query', 'sku']).sku.agg(['count']).sort_values(by='count', ascending=False)"
   ],
   "metadata": {
    "collapsed": false,
    "pycharm": {
     "name": "#%%\n"
    }
   }
  }
 ],
 "metadata": {
  "kernelspec": {
   "display_name": "Python 3 (ipykernel)",
   "language": "python",
   "name": "python3"
  },
  "language_info": {
   "codemirror_mode": {
    "name": "ipython",
    "version": 3
   },
   "file_extension": ".py",
   "mimetype": "text/x-python",
   "name": "python",
   "nbconvert_exporter": "python",
   "pygments_lexer": "ipython3",
   "version": "3.8.6"
  }
 },
 "nbformat": 4,
 "nbformat_minor": 1
}