{
 "cells": [
  {
   "cell_type": "code",
   "execution_count": 1,
   "metadata": {
    "collapsed": true,
    "pycharm": {
     "name": "#%%\n"
    }
   },
   "outputs": [],
   "source": [
    "import pandas as pd"
   ]
  },
  {
   "cell_type": "code",
   "execution_count": 3,
   "outputs": [],
   "source": [
    "test = pd.read_csv('xgb_test_output.csv', na_values='?', encoding=\"utf-8-sig\")"
   ],
   "metadata": {
    "collapsed": false,
    "pycharm": {
     "name": "#%%\n"
    }
   }
  },
  {
   "cell_type": "code",
   "execution_count": 4,
   "outputs": [
    {
     "data": {
      "text/plain": "       query               sku  rank    type  found    new       score\n0  google tv           1257136     1  simple   True  False  1069.69410\n1  google tv           5764553     2  simple  False  False   994.31165\n2  google tv           3991658     3  simple  False  False   885.82430\n3  google tv  9999138200050010     4  simple  False  False   883.73865\n4  google tv  9999138200050012     5  simple  False  False   834.22630",
      "text/html": "<div>\n<style scoped>\n    .dataframe tbody tr th:only-of-type {\n        vertical-align: middle;\n    }\n\n    .dataframe tbody tr th {\n        vertical-align: top;\n    }\n\n    .dataframe thead th {\n        text-align: right;\n    }\n</style>\n<table border=\"1\" class=\"dataframe\">\n  <thead>\n    <tr style=\"text-align: right;\">\n      <th></th>\n      <th>query</th>\n      <th>sku</th>\n      <th>rank</th>\n      <th>type</th>\n      <th>found</th>\n      <th>new</th>\n      <th>score</th>\n    </tr>\n  </thead>\n  <tbody>\n    <tr>\n      <th>0</th>\n      <td>google tv</td>\n      <td>1257136</td>\n      <td>1</td>\n      <td>simple</td>\n      <td>True</td>\n      <td>False</td>\n      <td>1069.69410</td>\n    </tr>\n    <tr>\n      <th>1</th>\n      <td>google tv</td>\n      <td>5764553</td>\n      <td>2</td>\n      <td>simple</td>\n      <td>False</td>\n      <td>False</td>\n      <td>994.31165</td>\n    </tr>\n    <tr>\n      <th>2</th>\n      <td>google tv</td>\n      <td>3991658</td>\n      <td>3</td>\n      <td>simple</td>\n      <td>False</td>\n      <td>False</td>\n      <td>885.82430</td>\n    </tr>\n    <tr>\n      <th>3</th>\n      <td>google tv</td>\n      <td>9999138200050010</td>\n      <td>4</td>\n      <td>simple</td>\n      <td>False</td>\n      <td>False</td>\n      <td>883.73865</td>\n    </tr>\n    <tr>\n      <th>4</th>\n      <td>google tv</td>\n      <td>9999138200050012</td>\n      <td>5</td>\n      <td>simple</td>\n      <td>False</td>\n      <td>False</td>\n      <td>834.22630</td>\n    </tr>\n  </tbody>\n</table>\n</div>"
     },
     "execution_count": 4,
     "metadata": {},
     "output_type": "execute_result"
    }
   ],
   "source": [
    "test.head()"
   ],
   "metadata": {
    "collapsed": false,
    "pycharm": {
     "name": "#%%\n"
    }
   }
  },
  {
   "cell_type": "code",
   "execution_count": 5,
   "outputs": [
    {
     "data": {
      "text/plain": "                                          query      sku  rank  \\\n19500                              Just dance 3  2803428     1   \n18500                              Just dance 3  2803428     1   \n55188                      memory stick pro duo  9016851     1   \n54188                      memory stick pro duo  9016851     1   \n120712                           play station 3  2613621     1   \n...                                         ...      ...   ...   \n22857   2622037 2127204 2127213 2121716 2138291  2250079   358   \n22858   2622037 2127204 2127213 2121716 2138291  2250097   359   \n22859   2622037 2127204 2127213 2121716 2138291  2300417   360   \n22860   2622037 2127204 2127213 2121716 2138291  2307492   361   \n22828   2622037 2127204 2127213 2121716 2138291  2634096   329   \n\n                  type  found    new         score  \n19500   ltr_hand_tuned   True  False  2.631898e+03  \n18500       hand_tuned   True  False  2.630855e+03  \n55188   ltr_hand_tuned   True  False  2.321733e+03  \n54188       hand_tuned   True  False  2.320805e+03  \n120712  ltr_hand_tuned  False  False  2.284302e+03  \n...                ...    ...    ...           ...  \n22857       hand_tuned  False  False  1.000000e-07  \n22858       hand_tuned   True  False  1.000000e-07  \n22859       hand_tuned   True  False  1.000000e-07  \n22860       hand_tuned  False  False  1.000000e-07  \n22828       hand_tuned   True  False  1.000000e-07  \n\n[177064 rows x 7 columns]",
      "text/html": "<div>\n<style scoped>\n    .dataframe tbody tr th:only-of-type {\n        vertical-align: middle;\n    }\n\n    .dataframe tbody tr th {\n        vertical-align: top;\n    }\n\n    .dataframe thead th {\n        text-align: right;\n    }\n</style>\n<table border=\"1\" class=\"dataframe\">\n  <thead>\n    <tr style=\"text-align: right;\">\n      <th></th>\n      <th>query</th>\n      <th>sku</th>\n      <th>rank</th>\n      <th>type</th>\n      <th>found</th>\n      <th>new</th>\n      <th>score</th>\n    </tr>\n  </thead>\n  <tbody>\n    <tr>\n      <th>19500</th>\n      <td>Just dance 3</td>\n      <td>2803428</td>\n      <td>1</td>\n      <td>ltr_hand_tuned</td>\n      <td>True</td>\n      <td>False</td>\n      <td>2.631898e+03</td>\n    </tr>\n    <tr>\n      <th>18500</th>\n      <td>Just dance 3</td>\n      <td>2803428</td>\n      <td>1</td>\n      <td>hand_tuned</td>\n      <td>True</td>\n      <td>False</td>\n      <td>2.630855e+03</td>\n    </tr>\n    <tr>\n      <th>55188</th>\n      <td>memory stick pro duo</td>\n      <td>9016851</td>\n      <td>1</td>\n      <td>ltr_hand_tuned</td>\n      <td>True</td>\n      <td>False</td>\n      <td>2.321733e+03</td>\n    </tr>\n    <tr>\n      <th>54188</th>\n      <td>memory stick pro duo</td>\n      <td>9016851</td>\n      <td>1</td>\n      <td>hand_tuned</td>\n      <td>True</td>\n      <td>False</td>\n      <td>2.320805e+03</td>\n    </tr>\n    <tr>\n      <th>120712</th>\n      <td>play station 3</td>\n      <td>2613621</td>\n      <td>1</td>\n      <td>ltr_hand_tuned</td>\n      <td>False</td>\n      <td>False</td>\n      <td>2.284302e+03</td>\n    </tr>\n    <tr>\n      <th>...</th>\n      <td>...</td>\n      <td>...</td>\n      <td>...</td>\n      <td>...</td>\n      <td>...</td>\n      <td>...</td>\n      <td>...</td>\n    </tr>\n    <tr>\n      <th>22857</th>\n      <td>2622037 2127204 2127213 2121716 2138291</td>\n      <td>2250079</td>\n      <td>358</td>\n      <td>hand_tuned</td>\n      <td>False</td>\n      <td>False</td>\n      <td>1.000000e-07</td>\n    </tr>\n    <tr>\n      <th>22858</th>\n      <td>2622037 2127204 2127213 2121716 2138291</td>\n      <td>2250097</td>\n      <td>359</td>\n      <td>hand_tuned</td>\n      <td>True</td>\n      <td>False</td>\n      <td>1.000000e-07</td>\n    </tr>\n    <tr>\n      <th>22859</th>\n      <td>2622037 2127204 2127213 2121716 2138291</td>\n      <td>2300417</td>\n      <td>360</td>\n      <td>hand_tuned</td>\n      <td>True</td>\n      <td>False</td>\n      <td>1.000000e-07</td>\n    </tr>\n    <tr>\n      <th>22860</th>\n      <td>2622037 2127204 2127213 2121716 2138291</td>\n      <td>2307492</td>\n      <td>361</td>\n      <td>hand_tuned</td>\n      <td>False</td>\n      <td>False</td>\n      <td>1.000000e-07</td>\n    </tr>\n    <tr>\n      <th>22828</th>\n      <td>2622037 2127204 2127213 2121716 2138291</td>\n      <td>2634096</td>\n      <td>329</td>\n      <td>hand_tuned</td>\n      <td>True</td>\n      <td>False</td>\n      <td>1.000000e-07</td>\n    </tr>\n  </tbody>\n</table>\n<p>177064 rows × 7 columns</p>\n</div>"
     },
     "execution_count": 5,
     "metadata": {},
     "output_type": "execute_result"
    }
   ],
   "source": [
    "test.sort_values(by='score', ascending=False)"
   ],
   "metadata": {
    "collapsed": false,
    "pycharm": {
     "name": "#%%\n"
    }
   }
  },
  {
   "cell_type": "code",
   "execution_count": null,
   "outputs": [],
   "source": [],
   "metadata": {
    "collapsed": false,
    "pycharm": {
     "name": "#%%\n"
    }
   }
  }
 ],
 "metadata": {
  "kernelspec": {
   "display_name": "Python 3",
   "language": "python",
   "name": "python3"
  },
  "language_info": {
   "codemirror_mode": {
    "name": "ipython",
    "version": 2
   },
   "file_extension": ".py",
   "mimetype": "text/x-python",
   "name": "python",
   "nbconvert_exporter": "python",
   "pygments_lexer": "ipython2",
   "version": "2.7.6"
  }
 },
 "nbformat": 4,
 "nbformat_minor": 0
}