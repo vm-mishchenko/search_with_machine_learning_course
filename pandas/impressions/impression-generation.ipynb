{
 "cells": [
  {
   "cell_type": "code",
   "execution_count": 9,
   "metadata": {
    "collapsed": true,
    "pycharm": {
     "name": "#%%\n"
    }
   },
   "outputs": [],
   "source": [
    "import pandas as pd"
   ]
  },
  {
   "cell_type": "code",
   "execution_count": 10,
   "outputs": [],
   "source": [
    "clicks = pd.read_csv('train-small-for-impressions.csv', na_values='?', encoding=\"utf-8-sig\")"
   ],
   "metadata": {
    "collapsed": false,
    "pycharm": {
     "name": "#%%\n"
    }
   }
  },
  {
   "cell_type": "code",
   "execution_count": 11,
   "outputs": [
    {
     "data": {
      "text/plain": "                                       user  sku            category query  \\\n0  000017f79c2b5da56721f22f9fdd726b13daf8e8    1  pcmcat193100050014     #   \n1  000017f79c2b5da56721f22f9fdd726b13daf8e8    2        abcat0101001     #   \n2  000017f79c2b5da56721f22f9fdd726b13daf8e8    2        abcat0101005     #   \n3  000017f79c2b5da56721f22f9fdd726b13daf8e8    3  pcmcat193100050014   foo   \n4  000017f79c2b5da56721f22f9fdd726b13daf8e8    4        abcat0101001   foo   \n\n                click_time               query_time  \n0   2011-08-24 12:56:58.91  2011-08-24 12:55:13.012  \n1  2011-10-25 07:18:14.722  2011-10-25 07:16:51.759  \n2  2011-10-25 07:19:51.697  2011-10-25 07:16:51.759  \n3   2011-08-24 12:56:58.91  2011-08-24 12:55:13.012  \n4  2011-10-25 07:18:14.722  2011-10-25 07:16:51.759  ",
      "text/html": "<div>\n<style scoped>\n    .dataframe tbody tr th:only-of-type {\n        vertical-align: middle;\n    }\n\n    .dataframe tbody tr th {\n        vertical-align: top;\n    }\n\n    .dataframe thead th {\n        text-align: right;\n    }\n</style>\n<table border=\"1\" class=\"dataframe\">\n  <thead>\n    <tr style=\"text-align: right;\">\n      <th></th>\n      <th>user</th>\n      <th>sku</th>\n      <th>category</th>\n      <th>query</th>\n      <th>click_time</th>\n      <th>query_time</th>\n    </tr>\n  </thead>\n  <tbody>\n    <tr>\n      <th>0</th>\n      <td>000017f79c2b5da56721f22f9fdd726b13daf8e8</td>\n      <td>1</td>\n      <td>pcmcat193100050014</td>\n      <td>#</td>\n      <td>2011-08-24 12:56:58.91</td>\n      <td>2011-08-24 12:55:13.012</td>\n    </tr>\n    <tr>\n      <th>1</th>\n      <td>000017f79c2b5da56721f22f9fdd726b13daf8e8</td>\n      <td>2</td>\n      <td>abcat0101001</td>\n      <td>#</td>\n      <td>2011-10-25 07:18:14.722</td>\n      <td>2011-10-25 07:16:51.759</td>\n    </tr>\n    <tr>\n      <th>2</th>\n      <td>000017f79c2b5da56721f22f9fdd726b13daf8e8</td>\n      <td>2</td>\n      <td>abcat0101005</td>\n      <td>#</td>\n      <td>2011-10-25 07:19:51.697</td>\n      <td>2011-10-25 07:16:51.759</td>\n    </tr>\n    <tr>\n      <th>3</th>\n      <td>000017f79c2b5da56721f22f9fdd726b13daf8e8</td>\n      <td>3</td>\n      <td>pcmcat193100050014</td>\n      <td>foo</td>\n      <td>2011-08-24 12:56:58.91</td>\n      <td>2011-08-24 12:55:13.012</td>\n    </tr>\n    <tr>\n      <th>4</th>\n      <td>000017f79c2b5da56721f22f9fdd726b13daf8e8</td>\n      <td>4</td>\n      <td>abcat0101001</td>\n      <td>foo</td>\n      <td>2011-10-25 07:18:14.722</td>\n      <td>2011-10-25 07:16:51.759</td>\n    </tr>\n  </tbody>\n</table>\n</div>"
     },
     "execution_count": 11,
     "metadata": {},
     "output_type": "execute_result"
    }
   ],
   "source": [
    "clicks.head()"
   ],
   "metadata": {
    "collapsed": false,
    "pycharm": {
     "name": "#%%\n"
    }
   }
  },
  {
   "cell_type": "markdown",
   "source": [
    "## Clicks"
   ],
   "metadata": {
    "collapsed": false,
    "pycharm": {
     "name": "#%% md\n"
    }
   }
  },
  {
   "cell_type": "code",
   "execution_count": 12,
   "outputs": [
    {
     "data": {
      "text/plain": "  query  sku  clicks\n0     #    1       1\n1     #    2       2\n2   foo    3       1\n3   foo    4       2\n4   foo    5       3",
      "text/html": "<div>\n<style scoped>\n    .dataframe tbody tr th:only-of-type {\n        vertical-align: middle;\n    }\n\n    .dataframe tbody tr th {\n        vertical-align: top;\n    }\n\n    .dataframe thead th {\n        text-align: right;\n    }\n</style>\n<table border=\"1\" class=\"dataframe\">\n  <thead>\n    <tr style=\"text-align: right;\">\n      <th></th>\n      <th>query</th>\n      <th>sku</th>\n      <th>clicks</th>\n    </tr>\n  </thead>\n  <tbody>\n    <tr>\n      <th>0</th>\n      <td>#</td>\n      <td>1</td>\n      <td>1</td>\n    </tr>\n    <tr>\n      <th>1</th>\n      <td>#</td>\n      <td>2</td>\n      <td>2</td>\n    </tr>\n    <tr>\n      <th>2</th>\n      <td>foo</td>\n      <td>3</td>\n      <td>1</td>\n    </tr>\n    <tr>\n      <th>3</th>\n      <td>foo</td>\n      <td>4</td>\n      <td>2</td>\n    </tr>\n    <tr>\n      <th>4</th>\n      <td>foo</td>\n      <td>5</td>\n      <td>3</td>\n    </tr>\n  </tbody>\n</table>\n</div>"
     },
     "execution_count": 12,
     "metadata": {},
     "output_type": "execute_result"
    }
   ],
   "source": [
    "# rank row: = for this query, this sku was clicked N times\n",
    "# rank row: = query | sku | clicked\n",
    "pairs = clicks.groupby(['query', 'sku']).size().reset_index(name='clicks')\n",
    "pairs"
   ],
   "metadata": {
    "collapsed": false,
    "pycharm": {
     "name": "#%%\n"
    }
   }
  },
  {
   "cell_type": "markdown",
   "source": [
    "## Rank"
   ],
   "metadata": {
    "collapsed": false,
    "pycharm": {
     "name": "#%% md\n"
    }
   }
  },
  {
   "cell_type": "code",
   "execution_count": 13,
   "outputs": [
    {
     "data": {
      "text/plain": "  query  sku  clicks  rank\n0     #    1       1   2.0\n1     #    2       2   1.0\n2   foo    3       1   3.0\n3   foo    4       2   2.0\n4   foo    5       3   1.0",
      "text/html": "<div>\n<style scoped>\n    .dataframe tbody tr th:only-of-type {\n        vertical-align: middle;\n    }\n\n    .dataframe tbody tr th {\n        vertical-align: top;\n    }\n\n    .dataframe thead th {\n        text-align: right;\n    }\n</style>\n<table border=\"1\" class=\"dataframe\">\n  <thead>\n    <tr style=\"text-align: right;\">\n      <th></th>\n      <th>query</th>\n      <th>sku</th>\n      <th>clicks</th>\n      <th>rank</th>\n    </tr>\n  </thead>\n  <tbody>\n    <tr>\n      <th>0</th>\n      <td>#</td>\n      <td>1</td>\n      <td>1</td>\n      <td>2.0</td>\n    </tr>\n    <tr>\n      <th>1</th>\n      <td>#</td>\n      <td>2</td>\n      <td>2</td>\n      <td>1.0</td>\n    </tr>\n    <tr>\n      <th>2</th>\n      <td>foo</td>\n      <td>3</td>\n      <td>1</td>\n      <td>3.0</td>\n    </tr>\n    <tr>\n      <th>3</th>\n      <td>foo</td>\n      <td>4</td>\n      <td>2</td>\n      <td>2.0</td>\n    </tr>\n    <tr>\n      <th>4</th>\n      <td>foo</td>\n      <td>5</td>\n      <td>3</td>\n      <td>1.0</td>\n    </tr>\n  </tbody>\n</table>\n</div>"
     },
     "execution_count": 13,
     "metadata": {},
     "output_type": "execute_result"
    }
   ],
   "source": [
    "pairs_ = pairs.copy()\n",
    "pairs_['rank'] = pairs_.groupby('query')['clicks'].rank(method='dense', ascending=False)\n",
    "pairs_"
   ],
   "metadata": {
    "collapsed": false,
    "pycharm": {
     "name": "#%%\n"
    }
   }
  },
  {
   "cell_type": "markdown",
   "source": [
    "## Impressions"
   ],
   "metadata": {
    "collapsed": false,
    "pycharm": {
     "name": "#%% md\n"
    }
   }
  },
  {
   "cell_type": "code",
   "execution_count": 14,
   "outputs": [
    {
     "data": {
      "text/plain": "  query  sku  clicks  num_impressions\n0     #    1       1                3\n1     #    2       2                3\n2   foo    3       1                6\n3   foo    4       2                6\n4   foo    5       3                6",
      "text/html": "<div>\n<style scoped>\n    .dataframe tbody tr th:only-of-type {\n        vertical-align: middle;\n    }\n\n    .dataframe tbody tr th {\n        vertical-align: top;\n    }\n\n    .dataframe thead th {\n        text-align: right;\n    }\n</style>\n<table border=\"1\" class=\"dataframe\">\n  <thead>\n    <tr style=\"text-align: right;\">\n      <th></th>\n      <th>query</th>\n      <th>sku</th>\n      <th>clicks</th>\n      <th>num_impressions</th>\n    </tr>\n  </thead>\n  <tbody>\n    <tr>\n      <th>0</th>\n      <td>#</td>\n      <td>1</td>\n      <td>1</td>\n      <td>3</td>\n    </tr>\n    <tr>\n      <th>1</th>\n      <td>#</td>\n      <td>2</td>\n      <td>2</td>\n      <td>3</td>\n    </tr>\n    <tr>\n      <th>2</th>\n      <td>foo</td>\n      <td>3</td>\n      <td>1</td>\n      <td>6</td>\n    </tr>\n    <tr>\n      <th>3</th>\n      <td>foo</td>\n      <td>4</td>\n      <td>2</td>\n      <td>6</td>\n    </tr>\n    <tr>\n      <th>4</th>\n      <td>foo</td>\n      <td>5</td>\n      <td>3</td>\n      <td>6</td>\n    </tr>\n  </tbody>\n</table>\n</div>"
     },
     "execution_count": 14,
     "metadata": {},
     "output_type": "execute_result"
    }
   ],
   "source": [
    "pairs__ = pairs.copy()\n",
    "pairs__['num_impressions'] = pairs__.groupby('query')['clicks'].transform('sum')\n",
    "pairs__"
   ],
   "metadata": {
    "collapsed": false,
    "pycharm": {
     "name": "#%%\n"
    }
   }
  }
 ],
 "metadata": {
  "kernelspec": {
   "display_name": "Python 3",
   "language": "python",
   "name": "python3"
  },
  "language_info": {
   "codemirror_mode": {
    "name": "ipython",
    "version": 2
   },
   "file_extension": ".py",
   "mimetype": "text/x-python",
   "name": "python",
   "nbconvert_exporter": "python",
   "pygments_lexer": "ipython2",
   "version": "2.7.6"
  }
 },
 "nbformat": 4,
 "nbformat_minor": 0
}